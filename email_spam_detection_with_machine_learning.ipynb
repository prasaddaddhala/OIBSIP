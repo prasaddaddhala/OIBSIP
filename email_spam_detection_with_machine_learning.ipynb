{
  "cells": [
    {
      "cell_type": "markdown",
      "metadata": {
        "id": "view-in-github",
        "colab_type": "text"
      },
      "source": [
        "<a href=\"https://colab.research.google.com/github/prasaddaddhala/OIBSIP/blob/main/email_spam_detection_with_machine_learning.ipynb\" target=\"_parent\"><img src=\"https://colab.research.google.com/assets/colab-badge.svg\" alt=\"Open In Colab\"/></a>"
      ]
    },
    {
      "cell_type": "code",
      "execution_count": 1,
      "id": "908ffbfb",
      "metadata": {
        "_cell_guid": "b1076dfc-b9ad-4769-8c92-a6c4dae69d19",
        "_uuid": "8f2839f25d086af736a60e9eeb907d3b93b6e0e5",
        "execution": {
          "iopub.execute_input": "2023-02-11T20:26:13.786891Z",
          "iopub.status.busy": "2023-02-11T20:26:13.785958Z",
          "iopub.status.idle": "2023-02-11T20:26:13.805473Z",
          "shell.execute_reply": "2023-02-11T20:26:13.804727Z"
        },
        "papermill": {
          "duration": 0.029351,
          "end_time": "2023-02-11T20:26:13.808195",
          "exception": false,
          "start_time": "2023-02-11T20:26:13.778844",
          "status": "completed"
        },
        "tags": [],
        "id": "908ffbfb"
      },
      "outputs": [],
      "source": [
        "import numpy as np \n",
        "import pandas as pd \n",
        "import os\n",
        "for dirname, _, filenames in os.walk('/kaggle/input'):\n",
        "    for filename in filenames:\n",
        "        print(os.path.join(dirname, filename))"
      ]
    },
    {
      "cell_type": "code",
      "execution_count": 2,
      "id": "d25352e7",
      "metadata": {
        "execution": {
          "iopub.execute_input": "2023-02-11T20:26:13.818231Z",
          "iopub.status.busy": "2023-02-11T20:26:13.817598Z",
          "iopub.status.idle": "2023-02-11T20:26:14.955640Z",
          "shell.execute_reply": "2023-02-11T20:26:14.954447Z"
        },
        "papermill": {
          "duration": 1.145876,
          "end_time": "2023-02-11T20:26:14.958359",
          "exception": false,
          "start_time": "2023-02-11T20:26:13.812483",
          "status": "completed"
        },
        "tags": [],
        "id": "d25352e7"
      },
      "outputs": [],
      "source": [
        "import numpy as np\n",
        "import pandas as pd\n",
        "import matplotlib.pyplot as plt\n",
        "import seaborn as sns\n",
        "from sklearn.utils import resample\n",
        "import seaborn as sb"
      ]
    },
    {
      "cell_type": "markdown",
      "id": "8d570fe7",
      "metadata": {
        "papermill": {
          "duration": 0.003998,
          "end_time": "2023-02-11T20:26:14.966667",
          "exception": false,
          "start_time": "2023-02-11T20:26:14.962669",
          "status": "completed"
        },
        "tags": [],
        "id": "8d570fe7"
      },
      "source": [
        "Tabel of contnets "
      ]
    },
    {
      "cell_type": "markdown",
      "id": "df036769",
      "metadata": {
        "papermill": {
          "duration": 0.003815,
          "end_time": "2023-02-11T20:26:14.974591",
          "exception": false,
          "start_time": "2023-02-11T20:26:14.970776",
          "status": "completed"
        },
        "tags": [],
        "id": "df036769"
      },
      "source": [
        "Loading the dataset from the csv file with the help of pandas"
      ]
    },
    {
      "cell_type": "code",
      "execution_count": 3,
      "id": "e13bbb46",
      "metadata": {
        "execution": {
          "iopub.execute_input": "2023-02-11T20:26:14.984303Z",
          "iopub.status.busy": "2023-02-11T20:26:14.983900Z",
          "iopub.status.idle": "2023-02-11T20:26:15.038197Z",
          "shell.execute_reply": "2023-02-11T20:26:15.037117Z"
        },
        "papermill": {
          "duration": 0.062182,
          "end_time": "2023-02-11T20:26:15.040809",
          "exception": false,
          "start_time": "2023-02-11T20:26:14.978627",
          "status": "completed"
        },
        "tags": [],
        "colab": {
          "base_uri": "https://localhost:8080/",
          "height": 423
        },
        "id": "e13bbb46",
        "outputId": "8badbd2d-236f-43a3-bc52-c0ac12e67657"
      },
      "outputs": [
        {
          "output_type": "execute_result",
          "data": {
            "text/plain": [
              "        v1                                                 v2 Unnamed: 2  \\\n",
              "0      ham  Go until jurong point, crazy.. Available only ...        NaN   \n",
              "1      ham                      Ok lar... Joking wif u oni...        NaN   \n",
              "2     spam  Free entry in 2 a wkly comp to win FA Cup fina...        NaN   \n",
              "3      ham  U dun say so early hor... U c already then say...        NaN   \n",
              "4      ham  Nah I don't think he goes to usf, he lives aro...        NaN   \n",
              "...    ...                                                ...        ...   \n",
              "5567  spam  This is the 2nd time we have tried 2 contact u...        NaN   \n",
              "5568   ham              Will Ì_ b going to esplanade fr home?        NaN   \n",
              "5569   ham  Pity, * was in mood for that. So...any other s...        NaN   \n",
              "5570   ham  The guy did some bitching but I acted like i'd...        NaN   \n",
              "5571   ham                         Rofl. Its true to its name        NaN   \n",
              "\n",
              "     Unnamed: 3 Unnamed: 4  \n",
              "0           NaN        NaN  \n",
              "1           NaN        NaN  \n",
              "2           NaN        NaN  \n",
              "3           NaN        NaN  \n",
              "4           NaN        NaN  \n",
              "...         ...        ...  \n",
              "5567        NaN        NaN  \n",
              "5568        NaN        NaN  \n",
              "5569        NaN        NaN  \n",
              "5570        NaN        NaN  \n",
              "5571        NaN        NaN  \n",
              "\n",
              "[5572 rows x 5 columns]"
            ],
            "text/html": [
              "\n",
              "  <div id=\"df-8688e386-c7da-487a-bf3c-0103ceefa118\">\n",
              "    <div class=\"colab-df-container\">\n",
              "      <div>\n",
              "<style scoped>\n",
              "    .dataframe tbody tr th:only-of-type {\n",
              "        vertical-align: middle;\n",
              "    }\n",
              "\n",
              "    .dataframe tbody tr th {\n",
              "        vertical-align: top;\n",
              "    }\n",
              "\n",
              "    .dataframe thead th {\n",
              "        text-align: right;\n",
              "    }\n",
              "</style>\n",
              "<table border=\"1\" class=\"dataframe\">\n",
              "  <thead>\n",
              "    <tr style=\"text-align: right;\">\n",
              "      <th></th>\n",
              "      <th>v1</th>\n",
              "      <th>v2</th>\n",
              "      <th>Unnamed: 2</th>\n",
              "      <th>Unnamed: 3</th>\n",
              "      <th>Unnamed: 4</th>\n",
              "    </tr>\n",
              "  </thead>\n",
              "  <tbody>\n",
              "    <tr>\n",
              "      <th>0</th>\n",
              "      <td>ham</td>\n",
              "      <td>Go until jurong point, crazy.. Available only ...</td>\n",
              "      <td>NaN</td>\n",
              "      <td>NaN</td>\n",
              "      <td>NaN</td>\n",
              "    </tr>\n",
              "    <tr>\n",
              "      <th>1</th>\n",
              "      <td>ham</td>\n",
              "      <td>Ok lar... Joking wif u oni...</td>\n",
              "      <td>NaN</td>\n",
              "      <td>NaN</td>\n",
              "      <td>NaN</td>\n",
              "    </tr>\n",
              "    <tr>\n",
              "      <th>2</th>\n",
              "      <td>spam</td>\n",
              "      <td>Free entry in 2 a wkly comp to win FA Cup fina...</td>\n",
              "      <td>NaN</td>\n",
              "      <td>NaN</td>\n",
              "      <td>NaN</td>\n",
              "    </tr>\n",
              "    <tr>\n",
              "      <th>3</th>\n",
              "      <td>ham</td>\n",
              "      <td>U dun say so early hor... U c already then say...</td>\n",
              "      <td>NaN</td>\n",
              "      <td>NaN</td>\n",
              "      <td>NaN</td>\n",
              "    </tr>\n",
              "    <tr>\n",
              "      <th>4</th>\n",
              "      <td>ham</td>\n",
              "      <td>Nah I don't think he goes to usf, he lives aro...</td>\n",
              "      <td>NaN</td>\n",
              "      <td>NaN</td>\n",
              "      <td>NaN</td>\n",
              "    </tr>\n",
              "    <tr>\n",
              "      <th>...</th>\n",
              "      <td>...</td>\n",
              "      <td>...</td>\n",
              "      <td>...</td>\n",
              "      <td>...</td>\n",
              "      <td>...</td>\n",
              "    </tr>\n",
              "    <tr>\n",
              "      <th>5567</th>\n",
              "      <td>spam</td>\n",
              "      <td>This is the 2nd time we have tried 2 contact u...</td>\n",
              "      <td>NaN</td>\n",
              "      <td>NaN</td>\n",
              "      <td>NaN</td>\n",
              "    </tr>\n",
              "    <tr>\n",
              "      <th>5568</th>\n",
              "      <td>ham</td>\n",
              "      <td>Will Ì_ b going to esplanade fr home?</td>\n",
              "      <td>NaN</td>\n",
              "      <td>NaN</td>\n",
              "      <td>NaN</td>\n",
              "    </tr>\n",
              "    <tr>\n",
              "      <th>5569</th>\n",
              "      <td>ham</td>\n",
              "      <td>Pity, * was in mood for that. So...any other s...</td>\n",
              "      <td>NaN</td>\n",
              "      <td>NaN</td>\n",
              "      <td>NaN</td>\n",
              "    </tr>\n",
              "    <tr>\n",
              "      <th>5570</th>\n",
              "      <td>ham</td>\n",
              "      <td>The guy did some bitching but I acted like i'd...</td>\n",
              "      <td>NaN</td>\n",
              "      <td>NaN</td>\n",
              "      <td>NaN</td>\n",
              "    </tr>\n",
              "    <tr>\n",
              "      <th>5571</th>\n",
              "      <td>ham</td>\n",
              "      <td>Rofl. Its true to its name</td>\n",
              "      <td>NaN</td>\n",
              "      <td>NaN</td>\n",
              "      <td>NaN</td>\n",
              "    </tr>\n",
              "  </tbody>\n",
              "</table>\n",
              "<p>5572 rows × 5 columns</p>\n",
              "</div>\n",
              "      <button class=\"colab-df-convert\" onclick=\"convertToInteractive('df-8688e386-c7da-487a-bf3c-0103ceefa118')\"\n",
              "              title=\"Convert this dataframe to an interactive table.\"\n",
              "              style=\"display:none;\">\n",
              "        \n",
              "  <svg xmlns=\"http://www.w3.org/2000/svg\" height=\"24px\"viewBox=\"0 0 24 24\"\n",
              "       width=\"24px\">\n",
              "    <path d=\"M0 0h24v24H0V0z\" fill=\"none\"/>\n",
              "    <path d=\"M18.56 5.44l.94 2.06.94-2.06 2.06-.94-2.06-.94-.94-2.06-.94 2.06-2.06.94zm-11 1L8.5 8.5l.94-2.06 2.06-.94-2.06-.94L8.5 2.5l-.94 2.06-2.06.94zm10 10l.94 2.06.94-2.06 2.06-.94-2.06-.94-.94-2.06-.94 2.06-2.06.94z\"/><path d=\"M17.41 7.96l-1.37-1.37c-.4-.4-.92-.59-1.43-.59-.52 0-1.04.2-1.43.59L10.3 9.45l-7.72 7.72c-.78.78-.78 2.05 0 2.83L4 21.41c.39.39.9.59 1.41.59.51 0 1.02-.2 1.41-.59l7.78-7.78 2.81-2.81c.8-.78.8-2.07 0-2.86zM5.41 20L4 18.59l7.72-7.72 1.47 1.35L5.41 20z\"/>\n",
              "  </svg>\n",
              "      </button>\n",
              "      \n",
              "  <style>\n",
              "    .colab-df-container {\n",
              "      display:flex;\n",
              "      flex-wrap:wrap;\n",
              "      gap: 12px;\n",
              "    }\n",
              "\n",
              "    .colab-df-convert {\n",
              "      background-color: #E8F0FE;\n",
              "      border: none;\n",
              "      border-radius: 50%;\n",
              "      cursor: pointer;\n",
              "      display: none;\n",
              "      fill: #1967D2;\n",
              "      height: 32px;\n",
              "      padding: 0 0 0 0;\n",
              "      width: 32px;\n",
              "    }\n",
              "\n",
              "    .colab-df-convert:hover {\n",
              "      background-color: #E2EBFA;\n",
              "      box-shadow: 0px 1px 2px rgba(60, 64, 67, 0.3), 0px 1px 3px 1px rgba(60, 64, 67, 0.15);\n",
              "      fill: #174EA6;\n",
              "    }\n",
              "\n",
              "    [theme=dark] .colab-df-convert {\n",
              "      background-color: #3B4455;\n",
              "      fill: #D2E3FC;\n",
              "    }\n",
              "\n",
              "    [theme=dark] .colab-df-convert:hover {\n",
              "      background-color: #434B5C;\n",
              "      box-shadow: 0px 1px 3px 1px rgba(0, 0, 0, 0.15);\n",
              "      filter: drop-shadow(0px 1px 2px rgba(0, 0, 0, 0.3));\n",
              "      fill: #FFFFFF;\n",
              "    }\n",
              "  </style>\n",
              "\n",
              "      <script>\n",
              "        const buttonEl =\n",
              "          document.querySelector('#df-8688e386-c7da-487a-bf3c-0103ceefa118 button.colab-df-convert');\n",
              "        buttonEl.style.display =\n",
              "          google.colab.kernel.accessAllowed ? 'block' : 'none';\n",
              "\n",
              "        async function convertToInteractive(key) {\n",
              "          const element = document.querySelector('#df-8688e386-c7da-487a-bf3c-0103ceefa118');\n",
              "          const dataTable =\n",
              "            await google.colab.kernel.invokeFunction('convertToInteractive',\n",
              "                                                     [key], {});\n",
              "          if (!dataTable) return;\n",
              "\n",
              "          const docLinkHtml = 'Like what you see? Visit the ' +\n",
              "            '<a target=\"_blank\" href=https://colab.research.google.com/notebooks/data_table.ipynb>data table notebook</a>'\n",
              "            + ' to learn more about interactive tables.';\n",
              "          element.innerHTML = '';\n",
              "          dataTable['output_type'] = 'display_data';\n",
              "          await google.colab.output.renderOutput(dataTable, element);\n",
              "          const docLink = document.createElement('div');\n",
              "          docLink.innerHTML = docLinkHtml;\n",
              "          element.appendChild(docLink);\n",
              "        }\n",
              "      </script>\n",
              "    </div>\n",
              "  </div>\n",
              "  "
            ]
          },
          "metadata": {},
          "execution_count": 3
        }
      ],
      "source": [
        "df=pd.read_csv(\"/content/spam.csv\",encoding=\"latin1\")\n",
        "df"
      ]
    },
    {
      "cell_type": "code",
      "execution_count": 4,
      "id": "4d337390",
      "metadata": {
        "execution": {
          "iopub.execute_input": "2023-02-11T20:26:15.052772Z",
          "iopub.status.busy": "2023-02-11T20:26:15.051659Z",
          "iopub.status.idle": "2023-02-11T20:26:15.076365Z",
          "shell.execute_reply": "2023-02-11T20:26:15.074818Z"
        },
        "papermill": {
          "duration": 0.033596,
          "end_time": "2023-02-11T20:26:15.079212",
          "exception": false,
          "start_time": "2023-02-11T20:26:15.045616",
          "status": "completed"
        },
        "tags": [],
        "colab": {
          "base_uri": "https://localhost:8080/"
        },
        "id": "4d337390",
        "outputId": "7a073eda-4b1f-4fe0-ee50-c01254bf7a5c"
      },
      "outputs": [
        {
          "output_type": "stream",
          "name": "stdout",
          "text": [
            "<class 'pandas.core.frame.DataFrame'>\n",
            "RangeIndex: 5572 entries, 0 to 5571\n",
            "Data columns (total 5 columns):\n",
            " #   Column      Non-Null Count  Dtype \n",
            "---  ------      --------------  ----- \n",
            " 0   v1          5572 non-null   object\n",
            " 1   v2          5572 non-null   object\n",
            " 2   Unnamed: 2  50 non-null     object\n",
            " 3   Unnamed: 3  12 non-null     object\n",
            " 4   Unnamed: 4  6 non-null      object\n",
            "dtypes: object(5)\n",
            "memory usage: 217.8+ KB\n"
          ]
        }
      ],
      "source": [
        "df.info()"
      ]
    },
    {
      "cell_type": "code",
      "execution_count": 5,
      "id": "298c5bae",
      "metadata": {
        "execution": {
          "iopub.execute_input": "2023-02-11T20:26:15.089834Z",
          "iopub.status.busy": "2023-02-11T20:26:15.089445Z",
          "iopub.status.idle": "2023-02-11T20:26:15.100229Z",
          "shell.execute_reply": "2023-02-11T20:26:15.099242Z"
        },
        "papermill": {
          "duration": 0.018631,
          "end_time": "2023-02-11T20:26:15.102511",
          "exception": false,
          "start_time": "2023-02-11T20:26:15.083880",
          "status": "completed"
        },
        "tags": [],
        "colab": {
          "base_uri": "https://localhost:8080/"
        },
        "id": "298c5bae",
        "outputId": "fe5fd694-7b31-455c-973d-848a95199954"
      },
      "outputs": [
        {
          "output_type": "execute_result",
          "data": {
            "text/plain": [
              "v1               0\n",
              "v2               0\n",
              "Unnamed: 2    5522\n",
              "Unnamed: 3    5560\n",
              "Unnamed: 4    5566\n",
              "dtype: int64"
            ]
          },
          "metadata": {},
          "execution_count": 5
        }
      ],
      "source": [
        "df.isnull().sum()"
      ]
    },
    {
      "cell_type": "markdown",
      "id": "7c0d79aa",
      "metadata": {
        "papermill": {
          "duration": 0.004327,
          "end_time": "2023-02-11T20:26:15.111624",
          "exception": false,
          "start_time": "2023-02-11T20:26:15.107297",
          "status": "completed"
        },
        "tags": [],
        "id": "7c0d79aa"
      },
      "source": [
        "Splitting the target and independent column"
      ]
    },
    {
      "cell_type": "code",
      "execution_count": 6,
      "id": "1889e431",
      "metadata": {
        "execution": {
          "iopub.execute_input": "2023-02-11T20:26:15.122974Z",
          "iopub.status.busy": "2023-02-11T20:26:15.122611Z",
          "iopub.status.idle": "2023-02-11T20:26:15.130759Z",
          "shell.execute_reply": "2023-02-11T20:26:15.129665Z"
        },
        "papermill": {
          "duration": 0.016868,
          "end_time": "2023-02-11T20:26:15.133044",
          "exception": false,
          "start_time": "2023-02-11T20:26:15.116176",
          "status": "completed"
        },
        "tags": [],
        "colab": {
          "base_uri": "https://localhost:8080/"
        },
        "id": "1889e431",
        "outputId": "fe6161d3-b67a-4d5a-a66a-1525e315bfae"
      },
      "outputs": [
        {
          "output_type": "execute_result",
          "data": {
            "text/plain": [
              "0       Go until jurong point, crazy.. Available only ...\n",
              "1                           Ok lar... Joking wif u oni...\n",
              "2       Free entry in 2 a wkly comp to win FA Cup fina...\n",
              "3       U dun say so early hor... U c already then say...\n",
              "4       Nah I don't think he goes to usf, he lives aro...\n",
              "                              ...                        \n",
              "5567    This is the 2nd time we have tried 2 contact u...\n",
              "5568                Will Ì_ b going to esplanade fr home?\n",
              "5569    Pity, * was in mood for that. So...any other s...\n",
              "5570    The guy did some bitching but I acted like i'd...\n",
              "5571                           Rofl. Its true to its name\n",
              "Name: v2, Length: 5572, dtype: object"
            ]
          },
          "metadata": {},
          "execution_count": 6
        }
      ],
      "source": [
        "x=df.v2\n",
        "x"
      ]
    },
    {
      "cell_type": "code",
      "execution_count": 7,
      "id": "1449ded7",
      "metadata": {
        "execution": {
          "iopub.execute_input": "2023-02-11T20:26:15.144918Z",
          "iopub.status.busy": "2023-02-11T20:26:15.144264Z",
          "iopub.status.idle": "2023-02-11T20:26:15.152351Z",
          "shell.execute_reply": "2023-02-11T20:26:15.151477Z"
        },
        "papermill": {
          "duration": 0.016394,
          "end_time": "2023-02-11T20:26:15.154401",
          "exception": false,
          "start_time": "2023-02-11T20:26:15.138007",
          "status": "completed"
        },
        "tags": [],
        "colab": {
          "base_uri": "https://localhost:8080/"
        },
        "id": "1449ded7",
        "outputId": "42f87a3b-dd17-4453-c916-9226fa8b853d"
      },
      "outputs": [
        {
          "output_type": "execute_result",
          "data": {
            "text/plain": [
              "0        ham\n",
              "1        ham\n",
              "2       spam\n",
              "3        ham\n",
              "4        ham\n",
              "        ... \n",
              "5567    spam\n",
              "5568     ham\n",
              "5569     ham\n",
              "5570     ham\n",
              "5571     ham\n",
              "Name: v1, Length: 5572, dtype: object"
            ]
          },
          "metadata": {},
          "execution_count": 7
        }
      ],
      "source": [
        "y=df.v1\n",
        "y"
      ]
    },
    {
      "cell_type": "markdown",
      "id": "310ba626",
      "metadata": {
        "papermill": {
          "duration": 0.005358,
          "end_time": "2023-02-11T20:26:15.164852",
          "exception": false,
          "start_time": "2023-02-11T20:26:15.159494",
          "status": "completed"
        },
        "tags": [],
        "id": "310ba626"
      },
      "source": [
        "LabelEncoding"
      ]
    },
    {
      "cell_type": "code",
      "execution_count": 8,
      "id": "3864e92d",
      "metadata": {
        "execution": {
          "iopub.execute_input": "2023-02-11T20:26:15.177051Z",
          "iopub.status.busy": "2023-02-11T20:26:15.176402Z",
          "iopub.status.idle": "2023-02-11T20:26:15.188262Z",
          "shell.execute_reply": "2023-02-11T20:26:15.187272Z"
        },
        "papermill": {
          "duration": 0.020533,
          "end_time": "2023-02-11T20:26:15.190435",
          "exception": false,
          "start_time": "2023-02-11T20:26:15.169902",
          "status": "completed"
        },
        "tags": [],
        "colab": {
          "base_uri": "https://localhost:8080/"
        },
        "id": "3864e92d",
        "outputId": "32114820-5a46-4d41-dfe0-2546d223a023"
      },
      "outputs": [
        {
          "output_type": "execute_result",
          "data": {
            "text/plain": [
              "0       1\n",
              "1       1\n",
              "2       0\n",
              "3       1\n",
              "4       1\n",
              "       ..\n",
              "5567    0\n",
              "5568    1\n",
              "5569    1\n",
              "5570    1\n",
              "5571    1\n",
              "Name: v1, Length: 5572, dtype: int64"
            ]
          },
          "metadata": {},
          "execution_count": 8
        }
      ],
      "source": [
        "y.replace(to_replace='ham',value=1,inplace=True)\n",
        "y.replace(to_replace='spam',value=0,inplace=True)\n",
        "y"
      ]
    },
    {
      "cell_type": "markdown",
      "id": "0902975a",
      "metadata": {
        "papermill": {
          "duration": 0.004921,
          "end_time": "2023-02-11T20:26:15.200614",
          "exception": false,
          "start_time": "2023-02-11T20:26:15.195693",
          "status": "completed"
        },
        "tags": [],
        "id": "0902975a"
      },
      "source": [
        "Checking the ratio"
      ]
    },
    {
      "cell_type": "code",
      "execution_count": 9,
      "id": "d2a98875",
      "metadata": {
        "execution": {
          "iopub.execute_input": "2023-02-11T20:26:15.213000Z",
          "iopub.status.busy": "2023-02-11T20:26:15.212335Z",
          "iopub.status.idle": "2023-02-11T20:26:15.220224Z",
          "shell.execute_reply": "2023-02-11T20:26:15.219352Z"
        },
        "papermill": {
          "duration": 0.016503,
          "end_time": "2023-02-11T20:26:15.222265",
          "exception": false,
          "start_time": "2023-02-11T20:26:15.205762",
          "status": "completed"
        },
        "tags": [],
        "colab": {
          "base_uri": "https://localhost:8080/"
        },
        "id": "d2a98875",
        "outputId": "e7e09a42-cfcf-4fff-9073-46d367c58648"
      },
      "outputs": [
        {
          "output_type": "execute_result",
          "data": {
            "text/plain": [
              "1    4825\n",
              "0     747\n",
              "Name: v1, dtype: int64"
            ]
          },
          "metadata": {},
          "execution_count": 9
        }
      ],
      "source": [
        "y=df.v1\n",
        "y.value_counts()"
      ]
    },
    {
      "cell_type": "code",
      "execution_count": 10,
      "id": "903196b0",
      "metadata": {
        "execution": {
          "iopub.execute_input": "2023-02-11T20:26:15.235048Z",
          "iopub.status.busy": "2023-02-11T20:26:15.234400Z",
          "iopub.status.idle": "2023-02-11T20:26:15.497232Z",
          "shell.execute_reply": "2023-02-11T20:26:15.496152Z"
        },
        "papermill": {
          "duration": 0.272039,
          "end_time": "2023-02-11T20:26:15.499680",
          "exception": false,
          "start_time": "2023-02-11T20:26:15.227641",
          "status": "completed"
        },
        "tags": [],
        "colab": {
          "base_uri": "https://localhost:8080/",
          "height": 297
        },
        "id": "903196b0",
        "outputId": "37ca8737-cb11-4ee9-8946-08df2fd326db"
      },
      "outputs": [
        {
          "output_type": "execute_result",
          "data": {
            "text/plain": [
              "<matplotlib.axes._subplots.AxesSubplot at 0x7f3bdeadb220>"
            ]
          },
          "metadata": {},
          "execution_count": 10
        },
        {
          "output_type": "display_data",
          "data": {
            "text/plain": [
              "<Figure size 432x288 with 1 Axes>"
            ],
            "image/png": "[encoded data removed]"
          },
          "metadata": {
            "needs_background": "light"
          }
        }
      ],
      "source": [
        "sb.histplot(y)"
      ]
    },
    {
      "cell_type": "markdown",
      "id": "9579f3c7",
      "metadata": {
        "papermill": {
          "duration": 0.00556,
          "end_time": "2023-02-11T20:26:15.511044",
          "exception": false,
          "start_time": "2023-02-11T20:26:15.505484",
          "status": "completed"
        },
        "tags": [],
        "id": "9579f3c7"
      },
      "source": [
        "Splitting the data"
      ]
    },
    {
      "cell_type": "code",
      "execution_count": 11,
      "id": "47edf8b4",
      "metadata": {
        "execution": {
          "iopub.execute_input": "2023-02-11T20:26:15.524556Z",
          "iopub.status.busy": "2023-02-11T20:26:15.523832Z",
          "iopub.status.idle": "2023-02-11T20:26:15.608743Z",
          "shell.execute_reply": "2023-02-11T20:26:15.607721Z"
        },
        "papermill": {
          "duration": 0.094578,
          "end_time": "2023-02-11T20:26:15.611631",
          "exception": false,
          "start_time": "2023-02-11T20:26:15.517053",
          "status": "completed"
        },
        "tags": [],
        "id": "47edf8b4"
      },
      "outputs": [],
      "source": [
        "from sklearn.model_selection import train_test_split\n",
        "x_train,x_test,y_train,y_test=train_test_split(x,y,train_size=0.9,random_state=25)"
      ]
    },
    {
      "cell_type": "markdown",
      "id": "63895908",
      "metadata": {
        "papermill": {
          "duration": 0.005617,
          "end_time": "2023-02-11T20:26:15.623406",
          "exception": false,
          "start_time": "2023-02-11T20:26:15.617789",
          "status": "completed"
        },
        "tags": [],
        "id": "63895908"
      },
      "source": [
        "Oversampling with resample function "
      ]
    },
    {
      "cell_type": "code",
      "execution_count": 12,
      "id": "37fa7dd9",
      "metadata": {
        "execution": {
          "iopub.execute_input": "2023-02-11T20:26:15.637492Z",
          "iopub.status.busy": "2023-02-11T20:26:15.636828Z",
          "iopub.status.idle": "2023-02-11T20:26:15.644140Z",
          "shell.execute_reply": "2023-02-11T20:26:15.643429Z"
        },
        "papermill": {
          "duration": 0.016602,
          "end_time": "2023-02-11T20:26:15.646270",
          "exception": false,
          "start_time": "2023-02-11T20:26:15.629668",
          "status": "completed"
        },
        "tags": [],
        "id": "37fa7dd9"
      },
      "outputs": [],
      "source": [
        "gok= pd.concat([x_train, y_train], axis=1)\n",
        "\n",
        "# separate minority and majority classes\n",
        "spam = gok[gok.v1==0]\n",
        "ham = gok[gok.v1==1]"
      ]
    }
  ],
  "metadata": {
    "kernelspec": {
      "display_name": "Python 3",
      "language": "python",
      "name": "python3"
    },
    "language_info": {
      "codemirror_mode": {
        "name": "ipython",
        "version": 3
      },
      "file_extension": ".py",
      "mimetype": "text/x-python",
      "name": "python",
      "nbconvert_exporter": "python",
      "pygments_lexer": "ipython3",
      "version": "3.7.12"
    },
    "papermill": {
      "default_parameters": {},
      "duration": 10.816279,
      "end_time": "2023-02-11T20:26:16.374342",
      "environment_variables": {},
      "exception": null,
      "input_path": "__notebook__.ipynb",
      "output_path": "__notebook__.ipynb",
      "parameters": {},
      "start_time": "2023-02-11T20:26:05.558063",
      "version": "2.3.4"
    },
    "colab": {
      "provenance": [],
      "include_colab_link": true
    }
  },
  "nbformat": 4,
  "nbformat_minor": 5
}