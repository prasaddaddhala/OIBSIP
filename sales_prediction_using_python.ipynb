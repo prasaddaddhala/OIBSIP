{
  "cells": [
    {
      "cell_type": "markdown",
      "metadata": {
        "id": "view-in-github",
        "colab_type": "text"
      },
      "source": [
        "<a href=\"https://colab.research.google.com/github/prasaddaddhala/OIBSIP/blob/main/sales_prediction_using_python.ipynb\" target=\"_parent\"><img src=\"https://colab.research.google.com/assets/colab-badge.svg\" alt=\"Open In Colab\"/></a>"
      ]
    },
    {
      "cell_type": "code",
      "execution_count": 1,
      "id": "fdb31f90",
      "metadata": {
        "_cell_guid": "b1076dfc-b9ad-4769-8c92-a6c4dae69d19",
        "_uuid": "8f2839f25d086af736a60e9eeb907d3b93b6e0e5",
        "execution": {
          "iopub.execute_input": "2023-01-02T17:39:18.431613Z",
          "iopub.status.busy": "2023-01-02T17:39:18.430465Z",
          "iopub.status.idle": "2023-01-02T17:39:18.453653Z",
          "shell.execute_reply": "2023-01-02T17:39:18.452535Z"
        },
        "papermill": {
          "duration": 0.039683,
          "end_time": "2023-01-02T17:39:18.457115",
          "exception": false,
          "start_time": "2023-01-02T17:39:18.417432",
          "status": "completed"
        },
        "tags": [],
        "id": "fdb31f90"
      },
      "outputs": [],
      "source": [
        "import numpy as np \n",
        "import pandas as pd \n",
        "\n",
        "import os\n",
        "for dirname, _, filenames in os.walk('/kaggle/input'):\n",
        "    for filename in filenames:\n",
        "        print(os.path.join(dirname, filename))\n"
      ]
    },
    {
      "cell_type": "markdown",
      "id": "614caa1e",
      "metadata": {
        "papermill": {
          "duration": 0.007778,
          "end_time": "2023-01-02T17:39:18.474445",
          "exception": false,
          "start_time": "2023-01-02T17:39:18.466667",
          "status": "completed"
        },
        "tags": [],
        "id": "614caa1e"
      },
      "source": [
        "# Index\n",
        "* Reading a Csv File\n",
        "* Removing useLess Columns\n",
        "* Train Test Split\n",
        "* Applying LinearRegression\n",
        "* Got 92% Accuracy"
      ]
    },
    {
      "cell_type": "markdown",
      "id": "a9ade88e",
      "metadata": {
        "papermill": {
          "duration": 0.007545,
          "end_time": "2023-01-02T17:39:18.489986",
          "exception": false,
          "start_time": "2023-01-02T17:39:18.482441",
          "status": "completed"
        },
        "tags": [],
        "id": "a9ade88e"
      },
      "source": [
        "# Reading a Csv File"
      ]
    },
    {
      "cell_type": "code",
      "execution_count": 2,
      "id": "d71b1b3d",
      "metadata": {
        "execution": {
          "iopub.execute_input": "2023-01-02T17:39:18.509161Z",
          "iopub.status.busy": "2023-01-02T17:39:18.508311Z",
          "iopub.status.idle": "2023-01-02T17:39:18.525044Z",
          "shell.execute_reply": "2023-01-02T17:39:18.524066Z"
        },
        "papermill": {
          "duration": 0.029711,
          "end_time": "2023-01-02T17:39:18.527786",
          "exception": false,
          "start_time": "2023-01-02T17:39:18.498075",
          "status": "completed"
        },
        "tags": [],
        "id": "d71b1b3d"
      },
      "outputs": [],
      "source": [
        "df=pd.read_csv(\"/content/Advertising.csv\")\n"
      ]
    },
    {
      "cell_type": "code",
      "execution_count": 3,
      "id": "c66914a9",
      "metadata": {
        "execution": {
          "iopub.execute_input": "2023-01-02T17:39:18.546118Z",
          "iopub.status.busy": "2023-01-02T17:39:18.545287Z",
          "iopub.status.idle": "2023-01-02T17:39:18.584035Z",
          "shell.execute_reply": "2023-01-02T17:39:18.582797Z"
        },
        "papermill": {
          "duration": 0.051041,
          "end_time": "2023-01-02T17:39:18.586934",
          "exception": false,
          "start_time": "2023-01-02T17:39:18.535893",
          "status": "completed"
        },
        "tags": [],
        "colab": {
          "base_uri": "https://localhost:8080/",
          "height": 423
        },
        "id": "c66914a9",
        "outputId": "896e7138-cf90-4a43-ebc1-ac8454a12360"
      },
      "outputs": [
        {
          "output_type": "execute_result",
          "data": {
            "text/plain": [
              "     Unnamed: 0     TV  Radio  Newspaper  Sales\n",
              "0             1  230.1   37.8       69.2   22.1\n",
              "1             2   44.5   39.3       45.1   10.4\n",
              "2             3   17.2   45.9       69.3    9.3\n",
              "3             4  151.5   41.3       58.5   18.5\n",
              "4             5  180.8   10.8       58.4   12.9\n",
              "..          ...    ...    ...        ...    ...\n",
              "195         196   38.2    3.7       13.8    7.6\n",
              "196         197   94.2    4.9        8.1    9.7\n",
              "197         198  177.0    9.3        6.4   12.8\n",
              "198         199  283.6   42.0       66.2   25.5\n",
              "199         200  232.1    8.6        8.7   13.4\n",
              "\n",
              "[200 rows x 5 columns]"
            ],
            "text/html": [
              "\n",
              "  <div id=\"df-6ac5aee7-8550-400c-822c-78c41123dfe8\">\n",
              "    <div class=\"colab-df-container\">\n",
              "      <div>\n",
              "<style scoped>\n",
              "    .dataframe tbody tr th:only-of-type {\n",
              "        vertical-align: middle;\n",
              "    }\n",
              "\n",
              "    .dataframe tbody tr th {\n",
              "        vertical-align: top;\n",
              "    }\n",
              "\n",
              "    .dataframe thead th {\n",
              "        text-align: right;\n",
              "    }\n",
              "</style>\n",
              "<table border=\"1\" class=\"dataframe\">\n",
              "  <thead>\n",
              "    <tr style=\"text-align: right;\">\n",
              "      <th></th>\n",
              "      <th>Unnamed: 0</th>\n",
              "      <th>TV</th>\n",
              "      <th>Radio</th>\n",
              "      <th>Newspaper</th>\n",
              "      <th>Sales</th>\n",
              "    </tr>\n",
              "  </thead>\n",
              "  <tbody>\n",
              "    <tr>\n",
              "      <th>0</th>\n",
              "      <td>1</td>\n",
              "      <td>230.1</td>\n",
              "      <td>37.8</td>\n",
              "      <td>69.2</td>\n",
              "      <td>22.1</td>\n",
              "    </tr>\n",
              "    <tr>\n",
              "      <th>1</th>\n",
              "      <td>2</td>\n",
              "      <td>44.5</td>\n",
              "      <td>39.3</td>\n",
              "      <td>45.1</td>\n",
              "      <td>10.4</td>\n",
              "    </tr>\n",
              "    <tr>\n",
              "      <th>2</th>\n",
              "      <td>3</td>\n",
              "      <td>17.2</td>\n",
              "      <td>45.9</td>\n",
              "      <td>69.3</td>\n",
              "      <td>9.3</td>\n",
              "    </tr>\n",
              "    <tr>\n",
              "      <th>3</th>\n",
              "      <td>4</td>\n",
              "      <td>151.5</td>\n",
              "      <td>41.3</td>\n",
              "      <td>58.5</td>\n",
              "      <td>18.5</td>\n",
              "    </tr>\n",
              "    <tr>\n",
              "      <th>4</th>\n",
              "      <td>5</td>\n",
              "      <td>180.8</td>\n",
              "      <td>10.8</td>\n",
              "      <td>58.4</td>\n",
              "      <td>12.9</td>\n",
              "    </tr>\n",
              "    <tr>\n",
              "      <th>...</th>\n",
              "      <td>...</td>\n",
              "      <td>...</td>\n",
              "      <td>...</td>\n",
              "      <td>...</td>\n",
              "      <td>...</td>\n",
              "    </tr>\n",
              "    <tr>\n",
              "      <th>195</th>\n",
              "      <td>196</td>\n",
              "      <td>38.2</td>\n",
              "      <td>3.7</td>\n",
              "      <td>13.8</td>\n",
              "      <td>7.6</td>\n",
              "    </tr>\n",
              "    <tr>\n",
              "      <th>196</th>\n",
              "      <td>197</td>\n",
              "      <td>94.2</td>\n",
              "      <td>4.9</td>\n",
              "      <td>8.1</td>\n",
              "      <td>9.7</td>\n",
              "    </tr>\n",
              "    <tr>\n",
              "      <th>197</th>\n",
              "      <td>198</td>\n",
              "      <td>177.0</td>\n",
              "      <td>9.3</td>\n",
              "      <td>6.4</td>\n",
              "      <td>12.8</td>\n",
              "    </tr>\n",
              "    <tr>\n",
              "      <th>198</th>\n",
              "      <td>199</td>\n",
              "      <td>283.6</td>\n",
              "      <td>42.0</td>\n",
              "      <td>66.2</td>\n",
              "      <td>25.5</td>\n",
              "    </tr>\n",
              "    <tr>\n",
              "      <th>199</th>\n",
              "      <td>200</td>\n",
              "      <td>232.1</td>\n",
              "      <td>8.6</td>\n",
              "      <td>8.7</td>\n",
              "      <td>13.4</td>\n",
              "    </tr>\n",
              "  </tbody>\n",
              "</table>\n",
              "<p>200 rows × 5 columns</p>\n",
              "</div>\n",
              "      <button class=\"colab-df-convert\" onclick=\"convertToInteractive('df-6ac5aee7-8550-400c-822c-78c41123dfe8')\"\n",
              "              title=\"Convert this dataframe to an interactive table.\"\n",
              "              style=\"display:none;\">\n",
              "        \n",
              "  <svg xmlns=\"http://www.w3.org/2000/svg\" height=\"24px\"viewBox=\"0 0 24 24\"\n",
              "       width=\"24px\">\n",
              "    <path d=\"M0 0h24v24H0V0z\" fill=\"none\"/>\n",
              "    <path d=\"M18.56 5.44l.94 2.06.94-2.06 2.06-.94-2.06-.94-.94-2.06-.94 2.06-2.06.94zm-11 1L8.5 8.5l.94-2.06 2.06-.94-2.06-.94L8.5 2.5l-.94 2.06-2.06.94zm10 10l.94 2.06.94-2.06 2.06-.94-2.06-.94-.94-2.06-.94 2.06-2.06.94z\"/><path d=\"M17.41 7.96l-1.37-1.37c-.4-.4-.92-.59-1.43-.59-.52 0-1.04.2-1.43.59L10.3 9.45l-7.72 7.72c-.78.78-.78 2.05 0 2.83L4 21.41c.39.39.9.59 1.41.59.51 0 1.02-.2 1.41-.59l7.78-7.78 2.81-2.81c.8-.78.8-2.07 0-2.86zM5.41 20L4 18.59l7.72-7.72 1.47 1.35L5.41 20z\"/>\n",
              "  </svg>\n",
              "      </button>\n",
              "      \n",
              "  <style>\n",
              "    .colab-df-container {\n",
              "      display:flex;\n",
              "      flex-wrap:wrap;\n",
              "      gap: 12px;\n",
              "    }\n",
              "\n",
              "    .colab-df-convert {\n",
              "      background-color: #E8F0FE;\n",
              "      border: none;\n",
              "      border-radius: 50%;\n",
              "      cursor: pointer;\n",
              "      display: none;\n",
              "      fill: #1967D2;\n",
              "      height: 32px;\n",
              "      padding: 0 0 0 0;\n",
              "      width: 32px;\n",
              "    }\n",
              "\n",
              "    .colab-df-convert:hover {\n",
              "      background-color: #E2EBFA;\n",
              "      box-shadow: 0px 1px 2px rgba(60, 64, 67, 0.3), 0px 1px 3px 1px rgba(60, 64, 67, 0.15);\n",
              "      fill: #174EA6;\n",
              "    }\n",
              "\n",
              "    [theme=dark] .colab-df-convert {\n",
              "      background-color: #3B4455;\n",
              "      fill: #D2E3FC;\n",
              "    }\n",
              "\n",
              "    [theme=dark] .colab-df-convert:hover {\n",
              "      background-color: #434B5C;\n",
              "      box-shadow: 0px 1px 3px 1px rgba(0, 0, 0, 0.15);\n",
              "      filter: drop-shadow(0px 1px 2px rgba(0, 0, 0, 0.3));\n",
              "      fill: #FFFFFF;\n",
              "    }\n",
              "  </style>\n",
              "\n",
              "      <script>\n",
              "        const buttonEl =\n",
              "          document.querySelector('#df-6ac5aee7-8550-400c-822c-78c41123dfe8 button.colab-df-convert');\n",
              "        buttonEl.style.display =\n",
              "          google.colab.kernel.accessAllowed ? 'block' : 'none';\n",
              "\n",
              "        async function convertToInteractive(key) {\n",
              "          const element = document.querySelector('#df-6ac5aee7-8550-400c-822c-78c41123dfe8');\n",
              "          const dataTable =\n",
              "            await google.colab.kernel.invokeFunction('convertToInteractive',\n",
              "                                                     [key], {});\n",
              "          if (!dataTable) return;\n",
              "\n",
              "          const docLinkHtml = 'Like what you see? Visit the ' +\n",
              "            '<a target=\"_blank\" href=https://colab.research.google.com/notebooks/data_table.ipynb>data table notebook</a>'\n",
              "            + ' to learn more about interactive tables.';\n",
              "          element.innerHTML = '';\n",
              "          dataTable['output_type'] = 'display_data';\n",
              "          await google.colab.output.renderOutput(dataTable, element);\n",
              "          const docLink = document.createElement('div');\n",
              "          docLink.innerHTML = docLinkHtml;\n",
              "          element.appendChild(docLink);\n",
              "        }\n",
              "      </script>\n",
              "    </div>\n",
              "  </div>\n",
              "  "
            ]
          },
          "metadata": {},
          "execution_count": 3
        }
      ],
      "source": [
        "df"
      ]
    },
    {
      "cell_type": "markdown",
      "id": "d283fdbe",
      "metadata": {
        "papermill": {
          "duration": 0.008033,
          "end_time": "2023-01-02T17:39:18.605190",
          "exception": false,
          "start_time": "2023-01-02T17:39:18.597157",
          "status": "completed"
        },
        "tags": [],
        "id": "d283fdbe"
      },
      "source": [
        "# Removing useLess Columns"
      ]
    },
    {
      "cell_type": "code",
      "execution_count": 4,
      "id": "61d18532",
      "metadata": {
        "execution": {
          "iopub.execute_input": "2023-01-02T17:39:18.625076Z",
          "iopub.status.busy": "2023-01-02T17:39:18.623966Z",
          "iopub.status.idle": "2023-01-02T17:39:18.637153Z",
          "shell.execute_reply": "2023-01-02T17:39:18.635774Z"
        },
        "papermill": {
          "duration": 0.025902,
          "end_time": "2023-01-02T17:39:18.639947",
          "exception": false,
          "start_time": "2023-01-02T17:39:18.614045",
          "status": "completed"
        },
        "tags": [],
        "id": "61d18532"
      },
      "outputs": [],
      "source": [
        "df=df.drop(columns=[\"Unnamed: 0\"])"
      ]
    },
    {
      "cell_type": "code",
      "execution_count": 5,
      "id": "a3449eb4",
      "metadata": {
        "execution": {
          "iopub.execute_input": "2023-01-02T17:39:18.659182Z",
          "iopub.status.busy": "2023-01-02T17:39:18.658289Z",
          "iopub.status.idle": "2023-01-02T17:39:18.673448Z",
          "shell.execute_reply": "2023-01-02T17:39:18.672197Z"
        },
        "papermill": {
          "duration": 0.027339,
          "end_time": "2023-01-02T17:39:18.675795",
          "exception": false,
          "start_time": "2023-01-02T17:39:18.648456",
          "status": "completed"
        },
        "tags": [],
        "colab": {
          "base_uri": "https://localhost:8080/",
          "height": 206
        },
        "id": "a3449eb4",
        "outputId": "bb37ed48-8ab3-4e58-b804-21976c5f6c3d"
      },
      "outputs": [
        {
          "output_type": "execute_result",
          "data": {
            "text/plain": [
              "      TV  Radio  Newspaper  Sales\n",
              "0  230.1   37.8       69.2   22.1\n",
              "1   44.5   39.3       45.1   10.4\n",
              "2   17.2   45.9       69.3    9.3\n",
              "3  151.5   41.3       58.5   18.5\n",
              "4  180.8   10.8       58.4   12.9"
            ],
            "text/html": [
              "\n",
              "  <div id=\"df-f7844ac4-03d2-431c-9566-ead7f6627288\">\n",
              "    <div class=\"colab-df-container\">\n",
              "      <div>\n",
              "<style scoped>\n",
              "    .dataframe tbody tr th:only-of-type {\n",
              "        vertical-align: middle;\n",
              "    }\n",
              "\n",
              "    .dataframe tbody tr th {\n",
              "        vertical-align: top;\n",
              "    }\n",
              "\n",
              "    .dataframe thead th {\n",
              "        text-align: right;\n",
              "    }\n",
              "</style>\n",
              "<table border=\"1\" class=\"dataframe\">\n",
              "  <thead>\n",
              "    <tr style=\"text-align: right;\">\n",
              "      <th></th>\n",
              "      <th>TV</th>\n",
              "      <th>Radio</th>\n",
              "      <th>Newspaper</th>\n",
              "      <th>Sales</th>\n",
              "    </tr>\n",
              "  </thead>\n",
              "  <tbody>\n",
              "    <tr>\n",
              "      <th>0</th>\n",
              "      <td>230.1</td>\n",
              "      <td>37.8</td>\n",
              "      <td>69.2</td>\n",
              "      <td>22.1</td>\n",
              "    </tr>\n",
              "    <tr>\n",
              "      <th>1</th>\n",
              "      <td>44.5</td>\n",
              "      <td>39.3</td>\n",
              "      <td>45.1</td>\n",
              "      <td>10.4</td>\n",
              "    </tr>\n",
              "    <tr>\n",
              "      <th>2</th>\n",
              "      <td>17.2</td>\n",
              "      <td>45.9</td>\n",
              "      <td>69.3</td>\n",
              "      <td>9.3</td>\n",
              "    </tr>\n",
              "    <tr>\n",
              "      <th>3</th>\n",
              "      <td>151.5</td>\n",
              "      <td>41.3</td>\n",
              "      <td>58.5</td>\n",
              "      <td>18.5</td>\n",
              "    </tr>\n",
              "    <tr>\n",
              "      <th>4</th>\n",
              "      <td>180.8</td>\n",
              "      <td>10.8</td>\n",
              "      <td>58.4</td>\n",
              "      <td>12.9</td>\n",
              "    </tr>\n",
              "  </tbody>\n",
              "</table>\n",
              "</div>\n",
              "      <button class=\"colab-df-convert\" onclick=\"convertToInteractive('df-f7844ac4-03d2-431c-9566-ead7f6627288')\"\n",
              "              title=\"Convert this dataframe to an interactive table.\"\n",
              "              style=\"display:none;\">\n",
              "        \n",
              "  <svg xmlns=\"http://www.w3.org/2000/svg\" height=\"24px\"viewBox=\"0 0 24 24\"\n",
              "       width=\"24px\">\n",
              "    <path d=\"M0 0h24v24H0V0z\" fill=\"none\"/>\n",
              "    <path d=\"M18.56 5.44l.94 2.06.94-2.06 2.06-.94-2.06-.94-.94-2.06-.94 2.06-2.06.94zm-11 1L8.5 8.5l.94-2.06 2.06-.94-2.06-.94L8.5 2.5l-.94 2.06-2.06.94zm10 10l.94 2.06.94-2.06 2.06-.94-2.06-.94-.94-2.06-.94 2.06-2.06.94z\"/><path d=\"M17.41 7.96l-1.37-1.37c-.4-.4-.92-.59-1.43-.59-.52 0-1.04.2-1.43.59L10.3 9.45l-7.72 7.72c-.78.78-.78 2.05 0 2.83L4 21.41c.39.39.9.59 1.41.59.51 0 1.02-.2 1.41-.59l7.78-7.78 2.81-2.81c.8-.78.8-2.07 0-2.86zM5.41 20L4 18.59l7.72-7.72 1.47 1.35L5.41 20z\"/>\n",
              "  </svg>\n",
              "      </button>\n",
              "      \n",
              "  <style>\n",
              "    .colab-df-container {\n",
              "      display:flex;\n",
              "      flex-wrap:wrap;\n",
              "      gap: 12px;\n",
              "    }\n",
              "\n",
              "    .colab-df-convert {\n",
              "      background-color: #E8F0FE;\n",
              "      border: none;\n",
              "      border-radius: 50%;\n",
              "      cursor: pointer;\n",
              "      display: none;\n",
              "      fill: #1967D2;\n",
              "      height: 32px;\n",
              "      padding: 0 0 0 0;\n",
              "      width: 32px;\n",
              "    }\n",
              "\n",
              "    .colab-df-convert:hover {\n",
              "      background-color: #E2EBFA;\n",
              "      box-shadow: 0px 1px 2px rgba(60, 64, 67, 0.3), 0px 1px 3px 1px rgba(60, 64, 67, 0.15);\n",
              "      fill: #174EA6;\n",
              "    }\n",
              "\n",
              "    [theme=dark] .colab-df-convert {\n",
              "      background-color: #3B4455;\n",
              "      fill: #D2E3FC;\n",
              "    }\n",
              "\n",
              "    [theme=dark] .colab-df-convert:hover {\n",
              "      background-color: #434B5C;\n",
              "      box-shadow: 0px 1px 3px 1px rgba(0, 0, 0, 0.15);\n",
              "      filter: drop-shadow(0px 1px 2px rgba(0, 0, 0, 0.3));\n",
              "      fill: #FFFFFF;\n",
              "    }\n",
              "  </style>\n",
              "\n",
              "      <script>\n",
              "        const buttonEl =\n",
              "          document.querySelector('#df-f7844ac4-03d2-431c-9566-ead7f6627288 button.colab-df-convert');\n",
              "        buttonEl.style.display =\n",
              "          google.colab.kernel.accessAllowed ? 'block' : 'none';\n",
              "\n",
              "        async function convertToInteractive(key) {\n",
              "          const element = document.querySelector('#df-f7844ac4-03d2-431c-9566-ead7f6627288');\n",
              "          const dataTable =\n",
              "            await google.colab.kernel.invokeFunction('convertToInteractive',\n",
              "                                                     [key], {});\n",
              "          if (!dataTable) return;\n",
              "\n",
              "          const docLinkHtml = 'Like what you see? Visit the ' +\n",
              "            '<a target=\"_blank\" href=https://colab.research.google.com/notebooks/data_table.ipynb>data table notebook</a>'\n",
              "            + ' to learn more about interactive tables.';\n",
              "          element.innerHTML = '';\n",
              "          dataTable['output_type'] = 'display_data';\n",
              "          await google.colab.output.renderOutput(dataTable, element);\n",
              "          const docLink = document.createElement('div');\n",
              "          docLink.innerHTML = docLinkHtml;\n",
              "          element.appendChild(docLink);\n",
              "        }\n",
              "      </script>\n",
              "    </div>\n",
              "  </div>\n",
              "  "
            ]
          },
          "metadata": {},
          "execution_count": 5
        }
      ],
      "source": [
        "df.head()"
      ]
    },
    {
      "cell_type": "code",
      "execution_count": 6,
      "id": "a63027e1",
      "metadata": {
        "execution": {
          "iopub.execute_input": "2023-01-02T17:39:18.696537Z",
          "iopub.status.busy": "2023-01-02T17:39:18.695443Z",
          "iopub.status.idle": "2023-01-02T17:39:18.702932Z",
          "shell.execute_reply": "2023-01-02T17:39:18.701804Z"
        },
        "papermill": {
          "duration": 0.021004,
          "end_time": "2023-01-02T17:39:18.705339",
          "exception": false,
          "start_time": "2023-01-02T17:39:18.684335",
          "status": "completed"
        },
        "tags": [],
        "colab": {
          "base_uri": "https://localhost:8080/"
        },
        "id": "a63027e1",
        "outputId": "380fe026-695e-4b39-d57c-3475982a558e"
      },
      "outputs": [
        {
          "output_type": "execute_result",
          "data": {
            "text/plain": [
              "(200, 4)"
            ]
          },
          "metadata": {},
          "execution_count": 6
        }
      ],
      "source": [
        "df.shape"
      ]
    },
    {
      "cell_type": "code",
      "execution_count": 7,
      "id": "3dd2ffbd",
      "metadata": {
        "execution": {
          "iopub.execute_input": "2023-01-02T17:39:18.724552Z",
          "iopub.status.busy": "2023-01-02T17:39:18.724087Z",
          "iopub.status.idle": "2023-01-02T17:39:18.729443Z",
          "shell.execute_reply": "2023-01-02T17:39:18.728361Z"
        },
        "papermill": {
          "duration": 0.01783,
          "end_time": "2023-01-02T17:39:18.731843",
          "exception": false,
          "start_time": "2023-01-02T17:39:18.714013",
          "status": "completed"
        },
        "tags": [],
        "id": "3dd2ffbd"
      },
      "outputs": [],
      "source": [
        "x=df.iloc[:,0:-1]"
      ]
    },
    {
      "cell_type": "code",
      "execution_count": 8,
      "id": "d0a4c52c",
      "metadata": {
        "execution": {
          "iopub.execute_input": "2023-01-02T17:39:18.752071Z",
          "iopub.status.busy": "2023-01-02T17:39:18.751629Z",
          "iopub.status.idle": "2023-01-02T17:39:18.767975Z",
          "shell.execute_reply": "2023-01-02T17:39:18.766724Z"
        },
        "papermill": {
          "duration": 0.029776,
          "end_time": "2023-01-02T17:39:18.770489",
          "exception": false,
          "start_time": "2023-01-02T17:39:18.740713",
          "status": "completed"
        },
        "tags": [],
        "colab": {
          "base_uri": "https://localhost:8080/",
          "height": 423
        },
        "id": "d0a4c52c",
        "outputId": "c21ad8bc-3352-41eb-967b-4b6517ec8a26"
      },
      "outputs": [
        {
          "output_type": "execute_result",
          "data": {
            "text/plain": [
              "        TV  Radio  Newspaper\n",
              "0    230.1   37.8       69.2\n",
              "1     44.5   39.3       45.1\n",
              "2     17.2   45.9       69.3\n",
              "3    151.5   41.3       58.5\n",
              "4    180.8   10.8       58.4\n",
              "..     ...    ...        ...\n",
              "195   38.2    3.7       13.8\n",
              "196   94.2    4.9        8.1\n",
              "197  177.0    9.3        6.4\n",
              "198  283.6   42.0       66.2\n",
              "199  232.1    8.6        8.7\n",
              "\n",
              "[200 rows x 3 columns]"
            ],
            "text/html": [
              "\n",
              "  <div id=\"df-3f66bc72-4381-4fcd-b6bd-48307724885b\">\n",
              "    <div class=\"colab-df-container\">\n",
              "      <div>\n",
              "<style scoped>\n",
              "    .dataframe tbody tr th:only-of-type {\n",
              "        vertical-align: middle;\n",
              "    }\n",
              "\n",
              "    .dataframe tbody tr th {\n",
              "        vertical-align: top;\n",
              "    }\n",
              "\n",
              "    .dataframe thead th {\n",
              "        text-align: right;\n",
              "    }\n",
              "</style>\n",
              "<table border=\"1\" class=\"dataframe\">\n",
              "  <thead>\n",
              "    <tr style=\"text-align: right;\">\n",
              "      <th></th>\n",
              "      <th>TV</th>\n",
              "      <th>Radio</th>\n",
              "      <th>Newspaper</th>\n",
              "    </tr>\n",
              "  </thead>\n",
              "  <tbody>\n",
              "    <tr>\n",
              "      <th>0</th>\n",
              "      <td>230.1</td>\n",
              "      <td>37.8</td>\n",
              "      <td>69.2</td>\n",
              "    </tr>\n",
              "    <tr>\n",
              "      <th>1</th>\n",
              "      <td>44.5</td>\n",
              "      <td>39.3</td>\n",
              "      <td>45.1</td>\n",
              "    </tr>\n",
              "    <tr>\n",
              "      <th>2</th>\n",
              "      <td>17.2</td>\n",
              "      <td>45.9</td>\n",
              "      <td>69.3</td>\n",
              "    </tr>\n",
              "    <tr>\n",
              "      <th>3</th>\n",
              "      <td>151.5</td>\n",
              "      <td>41.3</td>\n",
              "      <td>58.5</td>\n",
              "    </tr>\n",
              "    <tr>\n",
              "      <th>4</th>\n",
              "      <td>180.8</td>\n",
              "      <td>10.8</td>\n",
              "      <td>58.4</td>\n",
              "    </tr>\n",
              "    <tr>\n",
              "      <th>...</th>\n",
              "      <td>...</td>\n",
              "      <td>...</td>\n",
              "      <td>...</td>\n",
              "    </tr>\n",
              "    <tr>\n",
              "      <th>195</th>\n",
              "      <td>38.2</td>\n",
              "      <td>3.7</td>\n",
              "      <td>13.8</td>\n",
              "    </tr>\n",
              "    <tr>\n",
              "      <th>196</th>\n",
              "      <td>94.2</td>\n",
              "      <td>4.9</td>\n",
              "      <td>8.1</td>\n",
              "    </tr>\n",
              "    <tr>\n",
              "      <th>197</th>\n",
              "      <td>177.0</td>\n",
              "      <td>9.3</td>\n",
              "      <td>6.4</td>\n",
              "    </tr>\n",
              "    <tr>\n",
              "      <th>198</th>\n",
              "      <td>283.6</td>\n",
              "      <td>42.0</td>\n",
              "      <td>66.2</td>\n",
              "    </tr>\n",
              "    <tr>\n",
              "      <th>199</th>\n",
              "      <td>232.1</td>\n",
              "      <td>8.6</td>\n",
              "      <td>8.7</td>\n",
              "    </tr>\n",
              "  </tbody>\n",
              "</table>\n",
              "<p>200 rows × 3 columns</p>\n",
              "</div>\n",
              "      <button class=\"colab-df-convert\" onclick=\"convertToInteractive('df-3f66bc72-4381-4fcd-b6bd-48307724885b')\"\n",
              "              title=\"Convert this dataframe to an interactive table.\"\n",
              "              style=\"display:none;\">\n",
              "        \n",
              "  <svg xmlns=\"http://www.w3.org/2000/svg\" height=\"24px\"viewBox=\"0 0 24 24\"\n",
              "       width=\"24px\">\n",
              "    <path d=\"M0 0h24v24H0V0z\" fill=\"none\"/>\n",
              "    <path d=\"M18.56 5.44l.94 2.06.94-2.06 2.06-.94-2.06-.94-.94-2.06-.94 2.06-2.06.94zm-11 1L8.5 8.5l.94-2.06 2.06-.94-2.06-.94L8.5 2.5l-.94 2.06-2.06.94zm10 10l.94 2.06.94-2.06 2.06-.94-2.06-.94-.94-2.06-.94 2.06-2.06.94z\"/><path d=\"M17.41 7.96l-1.37-1.37c-.4-.4-.92-.59-1.43-.59-.52 0-1.04.2-1.43.59L10.3 9.45l-7.72 7.72c-.78.78-.78 2.05 0 2.83L4 21.41c.39.39.9.59 1.41.59.51 0 1.02-.2 1.41-.59l7.78-7.78 2.81-2.81c.8-.78.8-2.07 0-2.86zM5.41 20L4 18.59l7.72-7.72 1.47 1.35L5.41 20z\"/>\n",
              "  </svg>\n",
              "      </button>\n",
              "      \n",
              "  <style>\n",
              "    .colab-df-container {\n",
              "      display:flex;\n",
              "      flex-wrap:wrap;\n",
              "      gap: 12px;\n",
              "    }\n",
              "\n",
              "    .colab-df-convert {\n",
              "      background-color: #E8F0FE;\n",
              "      border: none;\n",
              "      border-radius: 50%;\n",
              "      cursor: pointer;\n",
              "      display: none;\n",
              "      fill: #1967D2;\n",
              "      height: 32px;\n",
              "      padding: 0 0 0 0;\n",
              "      width: 32px;\n",
              "    }\n",
              "\n",
              "    .colab-df-convert:hover {\n",
              "      background-color: #E2EBFA;\n",
              "      box-shadow: 0px 1px 2px rgba(60, 64, 67, 0.3), 0px 1px 3px 1px rgba(60, 64, 67, 0.15);\n",
              "      fill: #174EA6;\n",
              "    }\n",
              "\n",
              "    [theme=dark] .colab-df-convert {\n",
              "      background-color: #3B4455;\n",
              "      fill: #D2E3FC;\n",
              "    }\n",
              "\n",
              "    [theme=dark] .colab-df-convert:hover {\n",
              "      background-color: #434B5C;\n",
              "      box-shadow: 0px 1px 3px 1px rgba(0, 0, 0, 0.15);\n",
              "      filter: drop-shadow(0px 1px 2px rgba(0, 0, 0, 0.3));\n",
              "      fill: #FFFFFF;\n",
              "    }\n",
              "  </style>\n",
              "\n",
              "      <script>\n",
              "        const buttonEl =\n",
              "          document.querySelector('#df-3f66bc72-4381-4fcd-b6bd-48307724885b button.colab-df-convert');\n",
              "        buttonEl.style.display =\n",
              "          google.colab.kernel.accessAllowed ? 'block' : 'none';\n",
              "\n",
              "        async function convertToInteractive(key) {\n",
              "          const element = document.querySelector('#df-3f66bc72-4381-4fcd-b6bd-48307724885b');\n",
              "          const dataTable =\n",
              "            await google.colab.kernel.invokeFunction('convertToInteractive',\n",
              "                                                     [key], {});\n",
              "          if (!dataTable) return;\n",
              "\n",
              "          const docLinkHtml = 'Like what you see? Visit the ' +\n",
              "            '<a target=\"_blank\" href=https://colab.research.google.com/notebooks/data_table.ipynb>data table notebook</a>'\n",
              "            + ' to learn more about interactive tables.';\n",
              "          element.innerHTML = '';\n",
              "          dataTable['output_type'] = 'display_data';\n",
              "          await google.colab.output.renderOutput(dataTable, element);\n",
              "          const docLink = document.createElement('div');\n",
              "          docLink.innerHTML = docLinkHtml;\n",
              "          element.appendChild(docLink);\n",
              "        }\n",
              "      </script>\n",
              "    </div>\n",
              "  </div>\n",
              "  "
            ]
          },
          "metadata": {},
          "execution_count": 8
        }
      ],
      "source": [
        "x"
      ]
    },
    {
      "cell_type": "code",
      "execution_count": 9,
      "id": "301a7d35",
      "metadata": {
        "execution": {
          "iopub.execute_input": "2023-01-02T17:39:18.791200Z",
          "iopub.status.busy": "2023-01-02T17:39:18.790699Z",
          "iopub.status.idle": "2023-01-02T17:39:18.797151Z",
          "shell.execute_reply": "2023-01-02T17:39:18.795814Z"
        },
        "papermill": {
          "duration": 0.019636,
          "end_time": "2023-01-02T17:39:18.799534",
          "exception": false,
          "start_time": "2023-01-02T17:39:18.779898",
          "status": "completed"
        },
        "tags": [],
        "id": "301a7d35"
      },
      "outputs": [],
      "source": [
        "y=df.iloc[:,-1]"
      ]
    },
    {
      "cell_type": "code",
      "execution_count": 10,
      "id": "c8becb8e",
      "metadata": {
        "execution": {
          "iopub.execute_input": "2023-01-02T17:39:18.820477Z",
          "iopub.status.busy": "2023-01-02T17:39:18.820038Z",
          "iopub.status.idle": "2023-01-02T17:39:18.829314Z",
          "shell.execute_reply": "2023-01-02T17:39:18.828051Z"
        },
        "papermill": {
          "duration": 0.02348,
          "end_time": "2023-01-02T17:39:18.832244",
          "exception": false,
          "start_time": "2023-01-02T17:39:18.808764",
          "status": "completed"
        },
        "tags": [],
        "colab": {
          "base_uri": "https://localhost:8080/"
        },
        "id": "c8becb8e",
        "outputId": "a7f5ed08-b6e8-4626-9ad6-a6a3f445788e"
      },
      "outputs": [
        {
          "output_type": "execute_result",
          "data": {
            "text/plain": [
              "0      22.1\n",
              "1      10.4\n",
              "2       9.3\n",
              "3      18.5\n",
              "4      12.9\n",
              "       ... \n",
              "195     7.6\n",
              "196     9.7\n",
              "197    12.8\n",
              "198    25.5\n",
              "199    13.4\n",
              "Name: Sales, Length: 200, dtype: float64"
            ]
          },
          "metadata": {},
          "execution_count": 10
        }
      ],
      "source": [
        "y"
      ]
    },
    {
      "cell_type": "markdown",
      "id": "fd67a759",
      "metadata": {
        "papermill": {
          "duration": 0.00865,
          "end_time": "2023-01-02T17:39:18.850502",
          "exception": false,
          "start_time": "2023-01-02T17:39:18.841852",
          "status": "completed"
        },
        "tags": [],
        "id": "fd67a759"
      },
      "source": [
        "# Train Test Split"
      ]
    },
    {
      "cell_type": "code",
      "execution_count": 11,
      "id": "20ee327f",
      "metadata": {
        "execution": {
          "iopub.execute_input": "2023-01-02T17:39:18.871213Z",
          "iopub.status.busy": "2023-01-02T17:39:18.869855Z",
          "iopub.status.idle": "2023-01-02T17:39:20.157030Z",
          "shell.execute_reply": "2023-01-02T17:39:20.155812Z"
        },
        "papermill": {
          "duration": 1.301392,
          "end_time": "2023-01-02T17:39:20.160805",
          "exception": false,
          "start_time": "2023-01-02T17:39:18.859413",
          "status": "completed"
        },
        "tags": [],
        "id": "20ee327f"
      },
      "outputs": [],
      "source": [
        "from sklearn.model_selection import train_test_split\n",
        "x_train,x_test,y_train,y_test=train_test_split(x,y,test_size=0.2,random_state=43)"
      ]
    },
    {
      "cell_type": "code",
      "execution_count": 12,
      "id": "22db1893",
      "metadata": {
        "execution": {
          "iopub.execute_input": "2023-01-02T17:39:20.181082Z",
          "iopub.status.busy": "2023-01-02T17:39:20.180575Z",
          "iopub.status.idle": "2023-01-02T17:39:20.198606Z",
          "shell.execute_reply": "2023-01-02T17:39:20.197184Z"
        },
        "papermill": {
          "duration": 0.031168,
          "end_time": "2023-01-02T17:39:20.201102",
          "exception": false,
          "start_time": "2023-01-02T17:39:20.169934",
          "status": "completed"
        },
        "tags": [],
        "colab": {
          "base_uri": "https://localhost:8080/",
          "height": 423
        },
        "id": "22db1893",
        "outputId": "50bc2e51-4931-481f-f556-9636b60ea003"
      },
      "outputs": [
        {
          "output_type": "execute_result",
          "data": {
            "text/plain": [
              "        TV  Radio  Newspaper\n",
              "116  139.2   14.3       25.6\n",
              "138   43.0   25.9       20.5\n",
              "155    4.1   11.6        5.7\n",
              "82    75.3   20.3       32.5\n",
              "160  172.5   18.1       30.7\n",
              "..     ...    ...        ...\n",
              "58   210.8   49.6       37.7\n",
              "21   237.4    5.1       23.5\n",
              "49    66.9   11.7       36.8\n",
              "64   131.1   42.8       28.9\n",
              "68   237.4   27.5       11.0\n",
              "\n",
              "[160 rows x 3 columns]"
            ],
            "text/html": [
              "\n",
              "  <div id=\"df-fce54edc-1611-4e41-abe1-a31ff220f1ba\">\n",
              "    <div class=\"colab-df-container\">\n",
              "      <div>\n",
              "<style scoped>\n",
              "    .dataframe tbody tr th:only-of-type {\n",
              "        vertical-align: middle;\n",
              "    }\n",
              "\n",
              "    .dataframe tbody tr th {\n",
              "        vertical-align: top;\n",
              "    }\n",
              "\n",
              "    .dataframe thead th {\n",
              "        text-align: right;\n",
              "    }\n",
              "</style>\n",
              "<table border=\"1\" class=\"dataframe\">\n",
              "  <thead>\n",
              "    <tr style=\"text-align: right;\">\n",
              "      <th></th>\n",
              "      <th>TV</th>\n",
              "      <th>Radio</th>\n",
              "      <th>Newspaper</th>\n",
              "    </tr>\n",
              "  </thead>\n",
              "  <tbody>\n",
              "    <tr>\n",
              "      <th>116</th>\n",
              "      <td>139.2</td>\n",
              "      <td>14.3</td>\n",
              "      <td>25.6</td>\n",
              "    </tr>\n",
              "    <tr>\n",
              "      <th>138</th>\n",
              "      <td>43.0</td>\n",
              "      <td>25.9</td>\n",
              "      <td>20.5</td>\n",
              "    </tr>\n",
              "    <tr>\n",
              "      <th>155</th>\n",
              "      <td>4.1</td>\n",
              "      <td>11.6</td>\n",
              "      <td>5.7</td>\n",
              "    </tr>\n",
              "    <tr>\n",
              "      <th>82</th>\n",
              "      <td>75.3</td>\n",
              "      <td>20.3</td>\n",
              "      <td>32.5</td>\n",
              "    </tr>\n",
              "    <tr>\n",
              "      <th>160</th>\n",
              "      <td>172.5</td>\n",
              "      <td>18.1</td>\n",
              "      <td>30.7</td>\n",
              "    </tr>\n",
              "    <tr>\n",
              "      <th>...</th>\n",
              "      <td>...</td>\n",
              "      <td>...</td>\n",
              "      <td>...</td>\n",
              "    </tr>\n",
              "    <tr>\n",
              "      <th>58</th>\n",
              "      <td>210.8</td>\n",
              "      <td>49.6</td>\n",
              "      <td>37.7</td>\n",
              "    </tr>\n",
              "    <tr>\n",
              "      <th>21</th>\n",
              "      <td>237.4</td>\n",
              "      <td>5.1</td>\n",
              "      <td>23.5</td>\n",
              "    </tr>\n",
              "    <tr>\n",
              "      <th>49</th>\n",
              "      <td>66.9</td>\n",
              "      <td>11.7</td>\n",
              "      <td>36.8</td>\n",
              "    </tr>\n",
              "    <tr>\n",
              "      <th>64</th>\n",
              "      <td>131.1</td>\n",
              "      <td>42.8</td>\n",
              "      <td>28.9</td>\n",
              "    </tr>\n",
              "    <tr>\n",
              "      <th>68</th>\n",
              "      <td>237.4</td>\n",
              "      <td>27.5</td>\n",
              "      <td>11.0</td>\n",
              "    </tr>\n",
              "  </tbody>\n",
              "</table>\n",
              "<p>160 rows × 3 columns</p>\n",
              "</div>\n",
              "      <button class=\"colab-df-convert\" onclick=\"convertToInteractive('df-fce54edc-1611-4e41-abe1-a31ff220f1ba')\"\n",
              "              title=\"Convert this dataframe to an interactive table.\"\n",
              "              style=\"display:none;\">\n",
              "        \n",
              "  <svg xmlns=\"http://www.w3.org/2000/svg\" height=\"24px\"viewBox=\"0 0 24 24\"\n",
              "       width=\"24px\">\n",
              "    <path d=\"M0 0h24v24H0V0z\" fill=\"none\"/>\n",
              "    <path d=\"M18.56 5.44l.94 2.06.94-2.06 2.06-.94-2.06-.94-.94-2.06-.94 2.06-2.06.94zm-11 1L8.5 8.5l.94-2.06 2.06-.94-2.06-.94L8.5 2.5l-.94 2.06-2.06.94zm10 10l.94 2.06.94-2.06 2.06-.94-2.06-.94-.94-2.06-.94 2.06-2.06.94z\"/><path d=\"M17.41 7.96l-1.37-1.37c-.4-.4-.92-.59-1.43-.59-.52 0-1.04.2-1.43.59L10.3 9.45l-7.72 7.72c-.78.78-.78 2.05 0 2.83L4 21.41c.39.39.9.59 1.41.59.51 0 1.02-.2 1.41-.59l7.78-7.78 2.81-2.81c.8-.78.8-2.07 0-2.86zM5.41 20L4 18.59l7.72-7.72 1.47 1.35L5.41 20z\"/>\n",
              "  </svg>\n",
              "      </button>\n",
              "      \n",
              "  <style>\n",
              "    .colab-df-container {\n",
              "      display:flex;\n",
              "      flex-wrap:wrap;\n",
              "      gap: 12px;\n",
              "    }\n",
              "\n",
              "    .colab-df-convert {\n",
              "      background-color: #E8F0FE;\n",
              "      border: none;\n",
              "      border-radius: 50%;\n",
              "      cursor: pointer;\n",
              "      display: none;\n",
              "      fill: #1967D2;\n",
              "      height: 32px;\n",
              "      padding: 0 0 0 0;\n",
              "      width: 32px;\n",
              "    }\n",
              "\n",
              "    .colab-df-convert:hover {\n",
              "      background-color: #E2EBFA;\n",
              "      box-shadow: 0px 1px 2px rgba(60, 64, 67, 0.3), 0px 1px 3px 1px rgba(60, 64, 67, 0.15);\n",
              "      fill: #174EA6;\n",
              "    }\n",
              "\n",
              "    [theme=dark] .colab-df-convert {\n",
              "      background-color: #3B4455;\n",
              "      fill: #D2E3FC;\n",
              "    }\n",
              "\n",
              "    [theme=dark] .colab-df-convert:hover {\n",
              "      background-color: #434B5C;\n",
              "      box-shadow: 0px 1px 3px 1px rgba(0, 0, 0, 0.15);\n",
              "      filter: drop-shadow(0px 1px 2px rgba(0, 0, 0, 0.3));\n",
              "      fill: #FFFFFF;\n",
              "    }\n",
              "  </style>\n",
              "\n",
              "      <script>\n",
              "        const buttonEl =\n",
              "          document.querySelector('#df-fce54edc-1611-4e41-abe1-a31ff220f1ba button.colab-df-convert');\n",
              "        buttonEl.style.display =\n",
              "          google.colab.kernel.accessAllowed ? 'block' : 'none';\n",
              "\n",
              "        async function convertToInteractive(key) {\n",
              "          const element = document.querySelector('#df-fce54edc-1611-4e41-abe1-a31ff220f1ba');\n",
              "          const dataTable =\n",
              "            await google.colab.kernel.invokeFunction('convertToInteractive',\n",
              "                                                     [key], {});\n",
              "          if (!dataTable) return;\n",
              "\n",
              "          const docLinkHtml = 'Like what you see? Visit the ' +\n",
              "            '<a target=\"_blank\" href=https://colab.research.google.com/notebooks/data_table.ipynb>data table notebook</a>'\n",
              "            + ' to learn more about interactive tables.';\n",
              "          element.innerHTML = '';\n",
              "          dataTable['output_type'] = 'display_data';\n",
              "          await google.colab.output.renderOutput(dataTable, element);\n",
              "          const docLink = document.createElement('div');\n",
              "          docLink.innerHTML = docLinkHtml;\n",
              "          element.appendChild(docLink);\n",
              "        }\n",
              "      </script>\n",
              "    </div>\n",
              "  </div>\n",
              "  "
            ]
          },
          "metadata": {},
          "execution_count": 12
        }
      ],
      "source": [
        "x_train"
      ]
    },
    {
      "cell_type": "code",
      "execution_count": 13,
      "id": "54bf4b5d",
      "metadata": {
        "execution": {
          "iopub.execute_input": "2023-01-02T17:39:20.222231Z",
          "iopub.status.busy": "2023-01-02T17:39:20.221752Z",
          "iopub.status.idle": "2023-01-02T17:39:20.243728Z",
          "shell.execute_reply": "2023-01-02T17:39:20.242422Z"
        },
        "papermill": {
          "duration": 0.035597,
          "end_time": "2023-01-02T17:39:20.246117",
          "exception": false,
          "start_time": "2023-01-02T17:39:20.210520",
          "status": "completed"
        },
        "tags": [],
        "colab": {
          "base_uri": "https://localhost:8080/",
          "height": 1000
        },
        "id": "54bf4b5d",
        "outputId": "1f295c86-93db-4595-8540-dafacab218dc"
      },
      "outputs": [
        {
          "output_type": "execute_result",
          "data": {
            "text/plain": [
              "        TV  Radio  Newspaper\n",
              "56     7.3   28.1       41.4\n",
              "37    74.7   49.4       45.7\n",
              "67   139.3   14.5       10.2\n",
              "79   116.0    7.7       23.1\n",
              "80    76.4   26.7       22.3\n",
              "188  286.0   13.9        3.7\n",
              "183  287.6   43.0       71.8\n",
              "10    66.1    5.8       24.2\n",
              "128  220.3   49.0        3.2\n",
              "62   239.3   15.5       27.3\n",
              "65    69.0    9.3        0.9\n",
              "17   281.4   39.6       55.8\n",
              "133  219.8   33.5       45.1\n",
              "195   38.2    3.7       13.8\n",
              "146  240.1    7.3        8.7\n",
              "38    43.1   26.7       35.1\n",
              "173  168.4    7.1       12.8\n",
              "149   44.7   25.8       20.6\n",
              "93   250.9   36.5       72.3\n",
              "29    70.6   16.0       40.8\n",
              "0    230.1   37.8       69.2\n",
              "2     17.2   45.9       69.3\n",
              "122  224.0    2.4       15.6\n",
              "180  156.6    2.6        8.3\n",
              "95   163.3   31.6       52.9\n",
              "121   18.8   21.7       50.4\n",
              "185  205.0   45.1       19.6\n",
              "39   228.0   37.7       32.0\n",
              "66    31.5   24.6        2.2\n",
              "19   147.3   23.9       19.1\n",
              "11   214.7   24.0        4.0\n",
              "45   175.1   22.5       31.5\n",
              "41   177.0   33.4       38.7\n",
              "92   217.7   33.5       59.0\n",
              "168  215.4   23.6       57.6\n",
              "1     44.5   39.3       45.1\n",
              "57   136.2   19.2       16.6\n",
              "189   18.7   12.1       23.4\n",
              "151  121.0    8.4       48.7\n",
              "167  206.8    5.2       19.4"
            ],
            "text/html": [
              "\n",
              "  <div id=\"df-967df744-1a6f-42ee-b3a7-9992a38631b6\">\n",
              "    <div class=\"colab-df-container\">\n",
              "      <div>\n",
              "<style scoped>\n",
              "    .dataframe tbody tr th:only-of-type {\n",
              "        vertical-align: middle;\n",
              "    }\n",
              "\n",
              "    .dataframe tbody tr th {\n",
              "        vertical-align: top;\n",
              "    }\n",
              "\n",
              "    .dataframe thead th {\n",
              "        text-align: right;\n",
              "    }\n",
              "</style>\n",
              "<table border=\"1\" class=\"dataframe\">\n",
              "  <thead>\n",
              "    <tr style=\"text-align: right;\">\n",
              "      <th></th>\n",
              "      <th>TV</th>\n",
              "      <th>Radio</th>\n",
              "      <th>Newspaper</th>\n",
              "    </tr>\n",
              "  </thead>\n",
              "  <tbody>\n",
              "    <tr>\n",
              "      <th>56</th>\n",
              "      <td>7.3</td>\n",
              "      <td>28.1</td>\n",
              "      <td>41.4</td>\n",
              "    </tr>\n",
              "    <tr>\n",
              "      <th>37</th>\n",
              "      <td>74.7</td>\n",
              "      <td>49.4</td>\n",
              "      <td>45.7</td>\n",
              "    </tr>\n",
              "    <tr>\n",
              "      <th>67</th>\n",
              "      <td>139.3</td>\n",
              "      <td>14.5</td>\n",
              "      <td>10.2</td>\n",
              "    </tr>\n",
              "    <tr>\n",
              "      <th>79</th>\n",
              "      <td>116.0</td>\n",
              "      <td>7.7</td>\n",
              "      <td>23.1</td>\n",
              "    </tr>\n",
              "    <tr>\n",
              "      <th>80</th>\n",
              "      <td>76.4</td>\n",
              "      <td>26.7</td>\n",
              "      <td>22.3</td>\n",
              "    </tr>\n",
              "    <tr>\n",
              "      <th>188</th>\n",
              "      <td>286.0</td>\n",
              "      <td>13.9</td>\n",
              "      <td>3.7</td>\n",
              "    </tr>\n",
              "    <tr>\n",
              "      <th>183</th>\n",
              "      <td>287.6</td>\n",
              "      <td>43.0</td>\n",
              "      <td>71.8</td>\n",
              "    </tr>\n",
              "    <tr>\n",
              "      <th>10</th>\n",
              "      <td>66.1</td>\n",
              "      <td>5.8</td>\n",
              "      <td>24.2</td>\n",
              "    </tr>\n",
              "    <tr>\n",
              "      <th>128</th>\n",
              "      <td>220.3</td>\n",
              "      <td>49.0</td>\n",
              "      <td>3.2</td>\n",
              "    </tr>\n",
              "    <tr>\n",
              "      <th>62</th>\n",
              "      <td>239.3</td>\n",
              "      <td>15.5</td>\n",
              "      <td>27.3</td>\n",
              "    </tr>\n",
              "    <tr>\n",
              "      <th>65</th>\n",
              "      <td>69.0</td>\n",
              "      <td>9.3</td>\n",
              "      <td>0.9</td>\n",
              "    </tr>\n",
              "    <tr>\n",
              "      <th>17</th>\n",
              "      <td>281.4</td>\n",
              "      <td>39.6</td>\n",
              "      <td>55.8</td>\n",
              "    </tr>\n",
              "    <tr>\n",
              "      <th>133</th>\n",
              "      <td>219.8</td>\n",
              "      <td>33.5</td>\n",
              "      <td>45.1</td>\n",
              "    </tr>\n",
              "    <tr>\n",
              "      <th>195</th>\n",
              "      <td>38.2</td>\n",
              "      <td>3.7</td>\n",
              "      <td>13.8</td>\n",
              "    </tr>\n",
              "    <tr>\n",
              "      <th>146</th>\n",
              "      <td>240.1</td>\n",
              "      <td>7.3</td>\n",
              "      <td>8.7</td>\n",
              "    </tr>\n",
              "    <tr>\n",
              "      <th>38</th>\n",
              "      <td>43.1</td>\n",
              "      <td>26.7</td>\n",
              "      <td>35.1</td>\n",
              "    </tr>\n",
              "    <tr>\n",
              "      <th>173</th>\n",
              "      <td>168.4</td>\n",
              "      <td>7.1</td>\n",
              "      <td>12.8</td>\n",
              "    </tr>\n",
              "    <tr>\n",
              "      <th>149</th>\n",
              "      <td>44.7</td>\n",
              "      <td>25.8</td>\n",
              "      <td>20.6</td>\n",
              "    </tr>\n",
              "    <tr>\n",
              "      <th>93</th>\n",
              "      <td>250.9</td>\n",
              "      <td>36.5</td>\n",
              "      <td>72.3</td>\n",
              "    </tr>\n",
              "    <tr>\n",
              "      <th>29</th>\n",
              "      <td>70.6</td>\n",
              "      <td>16.0</td>\n",
              "      <td>40.8</td>\n",
              "    </tr>\n",
              "    <tr>\n",
              "      <th>0</th>\n",
              "      <td>230.1</td>\n",
              "      <td>37.8</td>\n",
              "      <td>69.2</td>\n",
              "    </tr>\n",
              "    <tr>\n",
              "      <th>2</th>\n",
              "      <td>17.2</td>\n",
              "      <td>45.9</td>\n",
              "      <td>69.3</td>\n",
              "    </tr>\n",
              "    <tr>\n",
              "      <th>122</th>\n",
              "      <td>224.0</td>\n",
              "      <td>2.4</td>\n",
              "      <td>15.6</td>\n",
              "    </tr>\n",
              "    <tr>\n",
              "      <th>180</th>\n",
              "      <td>156.6</td>\n",
              "      <td>2.6</td>\n",
              "      <td>8.3</td>\n",
              "    </tr>\n",
              "    <tr>\n",
              "      <th>95</th>\n",
              "      <td>163.3</td>\n",
              "      <td>31.6</td>\n",
              "      <td>52.9</td>\n",
              "    </tr>\n",
              "    <tr>\n",
              "      <th>121</th>\n",
              "      <td>18.8</td>\n",
              "      <td>21.7</td>\n",
              "      <td>50.4</td>\n",
              "    </tr>\n",
              "    <tr>\n",
              "      <th>185</th>\n",
              "      <td>205.0</td>\n",
              "      <td>45.1</td>\n",
              "      <td>19.6</td>\n",
              "    </tr>\n",
              "    <tr>\n",
              "      <th>39</th>\n",
              "      <td>228.0</td>\n",
              "      <td>37.7</td>\n",
              "      <td>32.0</td>\n",
              "    </tr>\n",
              "    <tr>\n",
              "      <th>66</th>\n",
              "      <td>31.5</td>\n",
              "      <td>24.6</td>\n",
              "      <td>2.2</td>\n",
              "    </tr>\n",
              "    <tr>\n",
              "      <th>19</th>\n",
              "      <td>147.3</td>\n",
              "      <td>23.9</td>\n",
              "      <td>19.1</td>\n",
              "    </tr>\n",
              "    <tr>\n",
              "      <th>11</th>\n",
              "      <td>214.7</td>\n",
              "      <td>24.0</td>\n",
              "      <td>4.0</td>\n",
              "    </tr>\n",
              "    <tr>\n",
              "      <th>45</th>\n",
              "      <td>175.1</td>\n",
              "      <td>22.5</td>\n",
              "      <td>31.5</td>\n",
              "    </tr>\n",
              "    <tr>\n",
              "      <th>41</th>\n",
              "      <td>177.0</td>\n",
              "      <td>33.4</td>\n",
              "      <td>38.7</td>\n",
              "    </tr>\n",
              "    <tr>\n",
              "      <th>92</th>\n",
              "      <td>217.7</td>\n",
              "      <td>33.5</td>\n",
              "      <td>59.0</td>\n",
              "    </tr>\n",
              "    <tr>\n",
              "      <th>168</th>\n",
              "      <td>215.4</td>\n",
              "      <td>23.6</td>\n",
              "      <td>57.6</td>\n",
              "    </tr>\n",
              "    <tr>\n",
              "      <th>1</th>\n",
              "      <td>44.5</td>\n",
              "      <td>39.3</td>\n",
              "      <td>45.1</td>\n",
              "    </tr>\n",
              "    <tr>\n",
              "      <th>57</th>\n",
              "      <td>136.2</td>\n",
              "      <td>19.2</td>\n",
              "      <td>16.6</td>\n",
              "    </tr>\n",
              "    <tr>\n",
              "      <th>189</th>\n",
              "      <td>18.7</td>\n",
              "      <td>12.1</td>\n",
              "      <td>23.4</td>\n",
              "    </tr>\n",
              "    <tr>\n",
              "      <th>151</th>\n",
              "      <td>121.0</td>\n",
              "      <td>8.4</td>\n",
              "      <td>48.7</td>\n",
              "    </tr>\n",
              "    <tr>\n",
              "      <th>167</th>\n",
              "      <td>206.8</td>\n",
              "      <td>5.2</td>\n",
              "      <td>19.4</td>\n",
              "    </tr>\n",
              "  </tbody>\n",
              "</table>\n",
              "</div>\n",
              "      <button class=\"colab-df-convert\" onclick=\"convertToInteractive('df-967df744-1a6f-42ee-b3a7-9992a38631b6')\"\n",
              "              title=\"Convert this dataframe to an interactive table.\"\n",
              "              style=\"display:none;\">\n",
              "        \n",
              "  <svg xmlns=\"http://www.w3.org/2000/svg\" height=\"24px\"viewBox=\"0 0 24 24\"\n",
              "       width=\"24px\">\n",
              "    <path d=\"M0 0h24v24H0V0z\" fill=\"none\"/>\n",
              "    <path d=\"M18.56 5.44l.94 2.06.94-2.06 2.06-.94-2.06-.94-.94-2.06-.94 2.06-2.06.94zm-11 1L8.5 8.5l.94-2.06 2.06-.94-2.06-.94L8.5 2.5l-.94 2.06-2.06.94zm10 10l.94 2.06.94-2.06 2.06-.94-2.06-.94-.94-2.06-.94 2.06-2.06.94z\"/><path d=\"M17.41 7.96l-1.37-1.37c-.4-.4-.92-.59-1.43-.59-.52 0-1.04.2-1.43.59L10.3 9.45l-7.72 7.72c-.78.78-.78 2.05 0 2.83L4 21.41c.39.39.9.59 1.41.59.51 0 1.02-.2 1.41-.59l7.78-7.78 2.81-2.81c.8-.78.8-2.07 0-2.86zM5.41 20L4 18.59l7.72-7.72 1.47 1.35L5.41 20z\"/>\n",
              "  </svg>\n",
              "      </button>\n",
              "      \n",
              "  <style>\n",
              "    .colab-df-container {\n",
              "      display:flex;\n",
              "      flex-wrap:wrap;\n",
              "      gap: 12px;\n",
              "    }\n",
              "\n",
              "    .colab-df-convert {\n",
              "      background-color: #E8F0FE;\n",
              "      border: none;\n",
              "      border-radius: 50%;\n",
              "      cursor: pointer;\n",
              "      display: none;\n",
              "      fill: #1967D2;\n",
              "      height: 32px;\n",
              "      padding: 0 0 0 0;\n",
              "      width: 32px;\n",
              "    }\n",
              "\n",
              "    .colab-df-convert:hover {\n",
              "      background-color: #E2EBFA;\n",
              "      box-shadow: 0px 1px 2px rgba(60, 64, 67, 0.3), 0px 1px 3px 1px rgba(60, 64, 67, 0.15);\n",
              "      fill: #174EA6;\n",
              "    }\n",
              "\n",
              "    [theme=dark] .colab-df-convert {\n",
              "      background-color: #3B4455;\n",
              "      fill: #D2E3FC;\n",
              "    }\n",
              "\n",
              "    [theme=dark] .colab-df-convert:hover {\n",
              "      background-color: #434B5C;\n",
              "      box-shadow: 0px 1px 3px 1px rgba(0, 0, 0, 0.15);\n",
              "      filter: drop-shadow(0px 1px 2px rgba(0, 0, 0, 0.3));\n",
              "      fill: #FFFFFF;\n",
              "    }\n",
              "  </style>\n",
              "\n",
              "      <script>\n",
              "        const buttonEl =\n",
              "          document.querySelector('#df-967df744-1a6f-42ee-b3a7-9992a38631b6 button.colab-df-convert');\n",
              "        buttonEl.style.display =\n",
              "          google.colab.kernel.accessAllowed ? 'block' : 'none';\n",
              "\n",
              "        async function convertToInteractive(key) {\n",
              "          const element = document.querySelector('#df-967df744-1a6f-42ee-b3a7-9992a38631b6');\n",
              "          const dataTable =\n",
              "            await google.colab.kernel.invokeFunction('convertToInteractive',\n",
              "                                                     [key], {});\n",
              "          if (!dataTable) return;\n",
              "\n",
              "          const docLinkHtml = 'Like what you see? Visit the ' +\n",
              "            '<a target=\"_blank\" href=https://colab.research.google.com/notebooks/data_table.ipynb>data table notebook</a>'\n",
              "            + ' to learn more about interactive tables.';\n",
              "          element.innerHTML = '';\n",
              "          dataTable['output_type'] = 'display_data';\n",
              "          await google.colab.output.renderOutput(dataTable, element);\n",
              "          const docLink = document.createElement('div');\n",
              "          docLink.innerHTML = docLinkHtml;\n",
              "          element.appendChild(docLink);\n",
              "        }\n",
              "      </script>\n",
              "    </div>\n",
              "  </div>\n",
              "  "
            ]
          },
          "metadata": {},
          "execution_count": 13
        }
      ],
      "source": [
        "x_test"
      ]
    },
    {
      "cell_type": "code",
      "execution_count": 14,
      "id": "e62f8d7a",
      "metadata": {
        "execution": {
          "iopub.execute_input": "2023-01-02T17:39:20.268588Z",
          "iopub.status.busy": "2023-01-02T17:39:20.267364Z",
          "iopub.status.idle": "2023-01-02T17:39:20.277487Z",
          "shell.execute_reply": "2023-01-02T17:39:20.276301Z"
        },
        "papermill": {
          "duration": 0.023758,
          "end_time": "2023-01-02T17:39:20.279922",
          "exception": false,
          "start_time": "2023-01-02T17:39:20.256164",
          "status": "completed"
        },
        "tags": [],
        "colab": {
          "base_uri": "https://localhost:8080/"
        },
        "id": "e62f8d7a",
        "outputId": "a4e705b4-bfb2-4fd0-dc3a-76316eae1314"
      },
      "outputs": [
        {
          "output_type": "execute_result",
          "data": {
            "text/plain": [
              "116    12.2\n",
              "138     9.6\n",
              "155     3.2\n",
              "82     11.3\n",
              "160    14.4\n",
              "       ... \n",
              "58     23.8\n",
              "21     12.5\n",
              "49      9.7\n",
              "64     18.0\n",
              "68     18.9\n",
              "Name: Sales, Length: 160, dtype: float64"
            ]
          },
          "metadata": {},
          "execution_count": 14
        }
      ],
      "source": [
        "y_train"
      ]
    },
    {
      "cell_type": "code",
      "execution_count": 15,
      "id": "71948fc7",
      "metadata": {
        "execution": {
          "iopub.execute_input": "2023-01-02T17:39:20.302915Z",
          "iopub.status.busy": "2023-01-02T17:39:20.301753Z",
          "iopub.status.idle": "2023-01-02T17:39:20.311922Z",
          "shell.execute_reply": "2023-01-02T17:39:20.310770Z"
        },
        "papermill": {
          "duration": 0.023924,
          "end_time": "2023-01-02T17:39:20.314203",
          "exception": false,
          "start_time": "2023-01-02T17:39:20.290279",
          "status": "completed"
        },
        "tags": [],
        "colab": {
          "base_uri": "https://localhost:8080/"
        },
        "id": "71948fc7",
        "outputId": "fa8ecf52-b8e1-4120-f673-3a9a0fa954fc"
      },
      "outputs": [
        {
          "output_type": "execute_result",
          "data": {
            "text/plain": [
              "56      5.5\n",
              "37     14.7\n",
              "67     13.4\n",
              "79     11.0\n",
              "80     11.8\n",
              "188    15.9\n",
              "183    26.2\n",
              "10      8.6\n",
              "128    24.7\n",
              "62     15.7\n",
              "65      9.3\n",
              "17     24.4\n",
              "133    19.6\n",
              "195     7.6\n",
              "146    13.2\n",
              "38     10.1\n",
              "173    11.7\n",
              "149    10.1\n",
              "93     22.2\n",
              "29     10.5\n",
              "0      22.1\n",
              "2       9.3\n",
              "122    11.6\n",
              "180    10.5\n",
              "95     16.9\n",
              "121     7.0\n",
              "185    22.6\n",
              "39     21.5\n",
              "66      9.5\n",
              "19     14.6\n",
              "11     17.4\n",
              "45     14.9\n",
              "41     17.1\n",
              "92     19.4\n",
              "168    17.1\n",
              "1      10.4\n",
              "57     13.2\n",
              "189     6.7\n",
              "151    11.6\n",
              "167    12.2\n",
              "Name: Sales, dtype: float64"
            ]
          },
          "metadata": {},
          "execution_count": 15
        }
      ],
      "source": [
        "y_test"
      ]
    },
    {
      "cell_type": "code",
      "execution_count": 16,
      "id": "2c4ecff1",
      "metadata": {
        "execution": {
          "iopub.execute_input": "2023-01-02T17:39:20.337123Z",
          "iopub.status.busy": "2023-01-02T17:39:20.335763Z",
          "iopub.status.idle": "2023-01-02T17:39:20.343590Z",
          "shell.execute_reply": "2023-01-02T17:39:20.342459Z"
        },
        "papermill": {
          "duration": 0.021929,
          "end_time": "2023-01-02T17:39:20.346189",
          "exception": false,
          "start_time": "2023-01-02T17:39:20.324260",
          "status": "completed"
        },
        "tags": [],
        "id": "2c4ecff1"
      },
      "outputs": [],
      "source": [
        "x_train=x_train.astype(int)\n",
        "y_train=y_train.astype(int)\n",
        "x_test=x_test.astype(int)\n",
        "y_test=y_test.astype(int)"
      ]
    },
    {
      "cell_type": "code",
      "execution_count": 17,
      "id": "5856ed12",
      "metadata": {
        "execution": {
          "iopub.execute_input": "2023-01-02T17:39:20.368904Z",
          "iopub.status.busy": "2023-01-02T17:39:20.368212Z",
          "iopub.status.idle": "2023-01-02T17:39:20.377939Z",
          "shell.execute_reply": "2023-01-02T17:39:20.376922Z"
        },
        "papermill": {
          "duration": 0.024545,
          "end_time": "2023-01-02T17:39:20.380824",
          "exception": false,
          "start_time": "2023-01-02T17:39:20.356279",
          "status": "completed"
        },
        "tags": [],
        "id": "5856ed12"
      },
      "outputs": [],
      "source": [
        "from sklearn.preprocessing import StandardScaler\n",
        "Sc=StandardScaler()\n",
        "x_train_scaled=Sc.fit_transform(x_train)"
      ]
    },
    {
      "cell_type": "code",
      "execution_count": 18,
      "id": "ed209cf8",
      "metadata": {
        "execution": {
          "iopub.execute_input": "2023-01-02T17:39:20.404154Z",
          "iopub.status.busy": "2023-01-02T17:39:20.403349Z",
          "iopub.status.idle": "2023-01-02T17:39:20.411195Z",
          "shell.execute_reply": "2023-01-02T17:39:20.410299Z"
        },
        "papermill": {
          "duration": 0.023295,
          "end_time": "2023-01-02T17:39:20.414158",
          "exception": false,
          "start_time": "2023-01-02T17:39:20.390863",
          "status": "completed"
        },
        "tags": [],
        "id": "ed209cf8"
      },
      "outputs": [],
      "source": [
        "x_test_scaled=Sc.fit_transform(x_test)"
      ]
    },
    {
      "cell_type": "markdown",
      "id": "f1af23b8",
      "metadata": {
        "papermill": {
          "duration": 0.009522,
          "end_time": "2023-01-02T17:39:20.434136",
          "exception": false,
          "start_time": "2023-01-02T17:39:20.424614",
          "status": "completed"
        },
        "tags": [],
        "id": "f1af23b8"
      },
      "source": [
        "# Applying LinearRegession"
      ]
    },
    {
      "cell_type": "code",
      "execution_count": 19,
      "id": "71c8fd74",
      "metadata": {
        "execution": {
          "iopub.execute_input": "2023-01-02T17:39:20.456819Z",
          "iopub.status.busy": "2023-01-02T17:39:20.456342Z",
          "iopub.status.idle": "2023-01-02T17:39:20.551787Z",
          "shell.execute_reply": "2023-01-02T17:39:20.550352Z"
        },
        "papermill": {
          "duration": 0.110387,
          "end_time": "2023-01-02T17:39:20.555185",
          "exception": false,
          "start_time": "2023-01-02T17:39:20.444798",
          "status": "completed"
        },
        "tags": [],
        "id": "71c8fd74"
      },
      "outputs": [],
      "source": [
        "from sklearn.linear_model import LinearRegression"
      ]
    },
    {
      "cell_type": "code",
      "execution_count": 20,
      "id": "fda36ad7",
      "metadata": {
        "execution": {
          "iopub.execute_input": "2023-01-02T17:39:20.577882Z",
          "iopub.status.busy": "2023-01-02T17:39:20.577433Z",
          "iopub.status.idle": "2023-01-02T17:39:20.582688Z",
          "shell.execute_reply": "2023-01-02T17:39:20.581445Z"
        },
        "papermill": {
          "duration": 0.019461,
          "end_time": "2023-01-02T17:39:20.585179",
          "exception": false,
          "start_time": "2023-01-02T17:39:20.565718",
          "status": "completed"
        },
        "tags": [],
        "id": "fda36ad7"
      },
      "outputs": [],
      "source": [
        "lr=LinearRegression()"
      ]
    },
    {
      "cell_type": "code",
      "execution_count": 21,
      "id": "bd2d9db2",
      "metadata": {
        "execution": {
          "iopub.execute_input": "2023-01-02T17:39:20.608229Z",
          "iopub.status.busy": "2023-01-02T17:39:20.607745Z",
          "iopub.status.idle": "2023-01-02T17:39:20.637412Z",
          "shell.execute_reply": "2023-01-02T17:39:20.636234Z"
        },
        "papermill": {
          "duration": 0.043686,
          "end_time": "2023-01-02T17:39:20.640021",
          "exception": false,
          "start_time": "2023-01-02T17:39:20.596335",
          "status": "completed"
        },
        "tags": [],
        "colab": {
          "base_uri": "https://localhost:8080/"
        },
        "id": "bd2d9db2",
        "outputId": "3dcf2418-67f3-4702-9372-a0106a35473f"
      },
      "outputs": [
        {
          "output_type": "execute_result",
          "data": {
            "text/plain": [
              "LinearRegression()"
            ]
          },
          "metadata": {},
          "execution_count": 21
        }
      ],
      "source": [
        "lr.fit(x_train_scaled,y_train)"
      ]
    },
    {
      "cell_type": "code",
      "execution_count": 22,
      "id": "2ba779ad",
      "metadata": {
        "execution": {
          "iopub.execute_input": "2023-01-02T17:39:20.662893Z",
          "iopub.status.busy": "2023-01-02T17:39:20.662029Z",
          "iopub.status.idle": "2023-01-02T17:39:20.669290Z",
          "shell.execute_reply": "2023-01-02T17:39:20.667936Z"
        },
        "papermill": {
          "duration": 0.022051,
          "end_time": "2023-01-02T17:39:20.672073",
          "exception": false,
          "start_time": "2023-01-02T17:39:20.650022",
          "status": "completed"
        },
        "tags": [],
        "id": "2ba779ad"
      },
      "outputs": [],
      "source": [
        "y_pred=lr.predict(x_test_scaled)"
      ]
    },
    {
      "cell_type": "code",
      "execution_count": 23,
      "id": "094c8ae1",
      "metadata": {
        "execution": {
          "iopub.execute_input": "2023-01-02T17:39:20.694198Z",
          "iopub.status.busy": "2023-01-02T17:39:20.693713Z",
          "iopub.status.idle": "2023-01-02T17:39:20.698832Z",
          "shell.execute_reply": "2023-01-02T17:39:20.697589Z"
        },
        "papermill": {
          "duration": 0.019388,
          "end_time": "2023-01-02T17:39:20.701270",
          "exception": false,
          "start_time": "2023-01-02T17:39:20.681882",
          "status": "completed"
        },
        "tags": [],
        "id": "094c8ae1"
      },
      "outputs": [],
      "source": [
        "from sklearn.metrics import r2_score"
      ]
    },
    {
      "cell_type": "code",
      "execution_count": 24,
      "id": "47b26c35",
      "metadata": {
        "execution": {
          "iopub.execute_input": "2023-01-02T17:39:20.723936Z",
          "iopub.status.busy": "2023-01-02T17:39:20.723447Z",
          "iopub.status.idle": "2023-01-02T17:39:20.733085Z",
          "shell.execute_reply": "2023-01-02T17:39:20.731469Z"
        },
        "papermill": {
          "duration": 0.024244,
          "end_time": "2023-01-02T17:39:20.735610",
          "exception": false,
          "start_time": "2023-01-02T17:39:20.711366",
          "status": "completed"
        },
        "tags": [],
        "colab": {
          "base_uri": "https://localhost:8080/"
        },
        "id": "47b26c35",
        "outputId": "9618dc7d-6ac1-49c0-bad4-145a513ec819"
      },
      "outputs": [
        {
          "output_type": "execute_result",
          "data": {
            "text/plain": [
              "0.9222988021105912"
            ]
          },
          "metadata": {},
          "execution_count": 24
        }
      ],
      "source": [
        "r2_score(y_test,y_pred)"
      ]
    },
    {
      "cell_type": "markdown",
      "id": "fba491a1",
      "metadata": {
        "papermill": {
          "duration": 0.00957,
          "end_time": "2023-01-02T17:39:20.755461",
          "exception": false,
          "start_time": "2023-01-02T17:39:20.745891",
          "status": "completed"
        },
        "tags": [],
        "id": "fba491a1"
      },
      "source": [
        "# Got 92% Accuracy"
      ]
    },
    {
      "cell_type": "code",
      "execution_count": 25,
      "id": "e93d18d4",
      "metadata": {
        "execution": {
          "iopub.execute_input": "2023-01-02T17:39:20.777976Z",
          "iopub.status.busy": "2023-01-02T17:39:20.777289Z",
          "iopub.status.idle": "2023-01-02T17:39:20.783310Z",
          "shell.execute_reply": "2023-01-02T17:39:20.782245Z"
        },
        "papermill": {
          "duration": 0.020305,
          "end_time": "2023-01-02T17:39:20.785822",
          "exception": false,
          "start_time": "2023-01-02T17:39:20.765517",
          "status": "completed"
        },
        "tags": [],
        "id": "e93d18d4"
      },
      "outputs": [],
      "source": [
        "import matplotlib.pyplot as plt"
      ]
    },
    {
      "cell_type": "code",
      "execution_count": 26,
      "id": "3ef15029",
      "metadata": {
        "execution": {
          "iopub.execute_input": "2023-01-02T17:39:20.809029Z",
          "iopub.status.busy": "2023-01-02T17:39:20.807965Z",
          "iopub.status.idle": "2023-01-02T17:39:21.105906Z",
          "shell.execute_reply": "2023-01-02T17:39:21.104561Z"
        },
        "papermill": {
          "duration": 0.3128,
          "end_time": "2023-01-02T17:39:21.109133",
          "exception": false,
          "start_time": "2023-01-02T17:39:20.796333",
          "status": "completed"
        },
        "tags": [],
        "colab": {
          "base_uri": "https://localhost:8080/",
          "height": 282
        },
        "id": "3ef15029",
        "outputId": "d584bf17-91e9-41f0-9d8a-2d5a63d17e35"
      },
      "outputs": [
        {
          "output_type": "execute_result",
          "data": {
            "text/plain": [
              "<matplotlib.collections.PathCollection at 0x7fd037ede670>"
            ]
          },
          "metadata": {},
          "execution_count": 26
        },
        {
          "output_type": "display_data",
          "data": {
            "text/plain": [
              "<Figure size 432x288 with 1 Axes>"
            ],
            "image/png": "[encoded data removed]"
          },
          "metadata": {
            "needs_background": "light"
          }
        }
      ],
      "source": [
        "plt.scatter(y_test,y_pred,c='g')"
      ]
    },
    {
      "cell_type": "markdown",
      "id": "e50c7fa9",
      "metadata": {
        "papermill": {
          "duration": 0.010878,
          "end_time": "2023-01-02T17:39:21.130653",
          "exception": false,
          "start_time": "2023-01-02T17:39:21.119775",
          "status": "completed"
        },
        "tags": [],
        "id": "e50c7fa9"
      },
      "source": [
        "**Thanks**"
      ]
    }
  ],
  "metadata": {
    "kernelspec": {
      "display_name": "Python 3",
      "language": "python",
      "name": "python3"
    },
    "language_info": {
      "codemirror_mode": {
        "name": "ipython",
        "version": 3
      },
      "file_extension": ".py",
      "mimetype": "text/x-python",
      "name": "python",
      "nbconvert_exporter": "python",
      "pygments_lexer": "ipython3",
      "version": "3.7.12"
    },
    "papermill": {
      "default_parameters": {},
      "duration": 13.137774,
      "end_time": "2023-01-02T17:39:22.087407",
      "environment_variables": {},
      "exception": null,
      "input_path": "__notebook__.ipynb",
      "output_path": "__notebook__.ipynb",
      "parameters": {},
      "start_time": "2023-01-02T17:39:08.949633",
      "version": "2.3.4"
    },
    "colab": {
      "provenance": [],
      "include_colab_link": true
    }
  },
  "nbformat": 4,
  "nbformat_minor": 5
}